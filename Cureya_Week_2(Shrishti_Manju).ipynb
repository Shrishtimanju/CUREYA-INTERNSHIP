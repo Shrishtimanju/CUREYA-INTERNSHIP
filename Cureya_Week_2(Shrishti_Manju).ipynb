{
  "nbformat": 4,
  "nbformat_minor": 0,
  "metadata": {
    "colab": {
      "name": " Cureya Week-2(Shrishti Manju).ipynb",
      "provenance": [],
      "collapsed_sections": []
    },
    "kernelspec": {
      "name": "python3",
      "display_name": "Python 3"
    },
    "language_info": {
      "name": "python"
    }
  },
  "cells": [
    {
      "cell_type": "markdown",
      "metadata": {
        "id": "AXU7Q6fXua8h"
      },
      "source": [
        "# **Cureya Internship Week- 2**\n",
        "\n",
        "## **Task : Python Fundamentals & Libraries**\n",
        "\n",
        "\n",
        "\n",
        "\n",
        "\n",
        "\n",
        "\n",
        "\n",
        "\n",
        "\n",
        "\n"
      ]
    },
    {
      "cell_type": "markdown",
      "metadata": {
        "id": "8Qi0t-TVDVam"
      },
      "source": [
        "**Dictionaries:**\n",
        "\n",
        "Dictionary in Python is an ordered collection of data values, used to store data values like a map, which, unlike other Data Types that hold only a single value as an element.In Python, a Dictionary can be created by placing a sequence of elements within curly {} braces, separated by ‘comma’. \n",
        "\n",
        "\n"
      ]
    },
    {
      "cell_type": "code",
      "metadata": {
        "colab": {
          "base_uri": "https://localhost:8080/"
        },
        "id": "-pWOZuR8VKRP",
        "outputId": "ab15c5dc-226a-4ca1-8a92-e5b8e99ea370"
      },
      "source": [
        "thisdict =\t{\n",
        "  \"brand\": \"Ford\",\n",
        "  \"model\": \"Mustang\",\n",
        "  \"year\": 1964\n",
        "}\n",
        "print(thisdict)\n"
      ],
      "execution_count": 4,
      "outputs": [
        {
          "output_type": "stream",
          "text": [
            "{'brand': 'Ford', 'model': 'Mustang', 'year': 1964}\n"
          ],
          "name": "stdout"
        }
      ]
    },
    {
      "cell_type": "markdown",
      "metadata": {
        "id": "ONp-MyhHEL6O"
      },
      "source": [
        "**Lists:**\n",
        "\n",
        "\n",
        " A list can be defined as a collection of values or items of different types. The items in the list are separated with the comma (,) and enclosed with the square brackets [ ].\n",
        "\n"
      ]
    },
    {
      "cell_type": "code",
      "metadata": {
        "colab": {
          "base_uri": "https://localhost:8080/"
        },
        "id": "53E3G8qcU8CO",
        "outputId": "22f3aa98-ace9-48a4-cacc-c29a611546ce"
      },
      "source": [
        "thislist = [\"apple\", \"banana\", \"cherry\"]\n",
        "print(thislist)"
      ],
      "execution_count": 6,
      "outputs": [
        {
          "output_type": "stream",
          "text": [
            "['apple', 'banana', 'cherry']\n"
          ],
          "name": "stdout"
        }
      ]
    },
    {
      "cell_type": "markdown",
      "metadata": {
        "id": "KIirDyQ1FUWL"
      },
      "source": [
        " **Tuples:**\n",
        " \n",
        " A Tuple is a collection of Python objects separated by commas. In someways a tuple is similar to a list in terms of indexing, nested objects and repetition but a tuple is immutable unlike lists which are mutable.\n",
        "\n",
        "\n",
        "\n"
      ]
    },
    {
      "cell_type": "code",
      "metadata": {
        "colab": {
          "base_uri": "https://localhost:8080/"
        },
        "id": "I2XSDeNpFRcX",
        "outputId": "0face8cf-88b9-43d5-f5d4-9114dd120b84"
      },
      "source": [
        " thistuple = (\"apple\", \"banana\", \"cherry\")\n",
        "print(thistuple)\n"
      ],
      "execution_count": 5,
      "outputs": [
        {
          "output_type": "stream",
          "text": [
            "('apple', 'banana', 'cherry')\n"
          ],
          "name": "stdout"
        }
      ]
    },
    {
      "cell_type": "markdown",
      "metadata": {
        "id": "kpe8vv0HGqRe"
      },
      "source": [
        "**Sets:**\n",
        "\n",
        " A Set is an unordered collection data type that is iterable, mutable and has no duplicate elements. Python’s set class represents the mathematical notion of a set. The major advantage of using a set, as opposed to a list, is that it has a highly optimized method for checking whether a specific element is contained in the set.\n",
        "\n"
      ]
    },
    {
      "cell_type": "code",
      "metadata": {
        "colab": {
          "base_uri": "https://localhost:8080/"
        },
        "id": "1Q5ISXGCHBqK",
        "outputId": "9e79d8f2-080c-4d01-bd69-3e6d7768f542"
      },
      "source": [
        " thisset = {\"apple\", \"banana\", \"cherry\"}\n",
        "print(thisset)"
      ],
      "execution_count": 57,
      "outputs": [
        {
          "output_type": "stream",
          "text": [
            "{'cherry', 'banana', 'apple'}\n"
          ],
          "name": "stdout"
        }
      ]
    },
    {
      "cell_type": "markdown",
      "metadata": {
        "id": "wPlAyOobduAx"
      },
      "source": [
        "### **Read CSV** **File**"
      ]
    },
    {
      "cell_type": "code",
      "metadata": {
        "colab": {
          "base_uri": "https://localhost:8080/"
        },
        "id": "5f4hzLLZnI35",
        "outputId": "cd5ffd60-03a0-4d55-f48c-e21610e99fdf"
      },
      "source": [
        "from google.colab import drive\n",
        "drive.mount('/content/drive')"
      ],
      "execution_count": 21,
      "outputs": [
        {
          "output_type": "stream",
          "text": [
            "Mounted at /content/drive\n"
          ],
          "name": "stdout"
        }
      ]
    },
    {
      "cell_type": "code",
      "metadata": {
        "colab": {
          "base_uri": "https://localhost:8080/",
          "height": 203
        },
        "id": "-UvzooBJnXrR",
        "outputId": "cb52e88e-e913-4dd4-aabc-c91a217c1a6b"
      },
      "source": [
        "import pandas as pd\n",
        "data_ = pd.read_csv('/content/drive/MyDrive/Colab Notebooks/company_sales_data.csv')\n",
        "data_.head()"
      ],
      "execution_count": 103,
      "outputs": [
        {
          "output_type": "execute_result",
          "data": {
            "text/html": [
              "<div>\n",
              "<style scoped>\n",
              "    .dataframe tbody tr th:only-of-type {\n",
              "        vertical-align: middle;\n",
              "    }\n",
              "\n",
              "    .dataframe tbody tr th {\n",
              "        vertical-align: top;\n",
              "    }\n",
              "\n",
              "    .dataframe thead th {\n",
              "        text-align: right;\n",
              "    }\n",
              "</style>\n",
              "<table border=\"1\" class=\"dataframe\">\n",
              "  <thead>\n",
              "    <tr style=\"text-align: right;\">\n",
              "      <th></th>\n",
              "      <th>month_number</th>\n",
              "      <th>facecream</th>\n",
              "      <th>facewash</th>\n",
              "      <th>toothpaste</th>\n",
              "      <th>bathingsoap</th>\n",
              "      <th>shampoo</th>\n",
              "      <th>moisturizer</th>\n",
              "      <th>total_units</th>\n",
              "      <th>total_profit</th>\n",
              "    </tr>\n",
              "  </thead>\n",
              "  <tbody>\n",
              "    <tr>\n",
              "      <th>0</th>\n",
              "      <td>1</td>\n",
              "      <td>2500</td>\n",
              "      <td>1500</td>\n",
              "      <td>5200</td>\n",
              "      <td>9200</td>\n",
              "      <td>1200</td>\n",
              "      <td>1500</td>\n",
              "      <td>21100</td>\n",
              "      <td>211000</td>\n",
              "    </tr>\n",
              "    <tr>\n",
              "      <th>1</th>\n",
              "      <td>2</td>\n",
              "      <td>2630</td>\n",
              "      <td>1200</td>\n",
              "      <td>5100</td>\n",
              "      <td>6100</td>\n",
              "      <td>2100</td>\n",
              "      <td>1200</td>\n",
              "      <td>18330</td>\n",
              "      <td>183300</td>\n",
              "    </tr>\n",
              "    <tr>\n",
              "      <th>2</th>\n",
              "      <td>3</td>\n",
              "      <td>2140</td>\n",
              "      <td>1340</td>\n",
              "      <td>4550</td>\n",
              "      <td>9550</td>\n",
              "      <td>3550</td>\n",
              "      <td>1340</td>\n",
              "      <td>22470</td>\n",
              "      <td>224700</td>\n",
              "    </tr>\n",
              "    <tr>\n",
              "      <th>3</th>\n",
              "      <td>4</td>\n",
              "      <td>3400</td>\n",
              "      <td>1130</td>\n",
              "      <td>5870</td>\n",
              "      <td>8870</td>\n",
              "      <td>1870</td>\n",
              "      <td>1130</td>\n",
              "      <td>22270</td>\n",
              "      <td>222700</td>\n",
              "    </tr>\n",
              "    <tr>\n",
              "      <th>4</th>\n",
              "      <td>5</td>\n",
              "      <td>3600</td>\n",
              "      <td>1740</td>\n",
              "      <td>4560</td>\n",
              "      <td>7760</td>\n",
              "      <td>1560</td>\n",
              "      <td>1740</td>\n",
              "      <td>20960</td>\n",
              "      <td>209600</td>\n",
              "    </tr>\n",
              "  </tbody>\n",
              "</table>\n",
              "</div>"
            ],
            "text/plain": [
              "   month_number  facecream  facewash  ...  moisturizer  total_units  total_profit\n",
              "0             1       2500      1500  ...         1500        21100        211000\n",
              "1             2       2630      1200  ...         1200        18330        183300\n",
              "2             3       2140      1340  ...         1340        22470        224700\n",
              "3             4       3400      1130  ...         1130        22270        222700\n",
              "4             5       3600      1740  ...         1740        20960        209600\n",
              "\n",
              "[5 rows x 9 columns]"
            ]
          },
          "metadata": {
            "tags": []
          },
          "execution_count": 103
        }
      ]
    },
    {
      "cell_type": "markdown",
      "metadata": {
        "id": "ZzjZXbTELvXQ"
      },
      "source": [
        "### **Numpy**"
      ]
    },
    {
      "cell_type": "code",
      "metadata": {
        "id": "_H6nuFP3H1rf"
      },
      "source": [
        "import numpy as np"
      ],
      "execution_count": 26,
      "outputs": []
    },
    {
      "cell_type": "markdown",
      "metadata": {
        "id": "5Tvom8MBreng"
      },
      "source": [
        "Q1) Create an array of 10 fives"
      ]
    },
    {
      "cell_type": "code",
      "metadata": {
        "colab": {
          "base_uri": "https://localhost:8080/"
        },
        "id": "B3p2px6lMjuq",
        "outputId": "fbb3c51a-4598-488c-9d31-47a56fa9b9dd"
      },
      "source": [
        "np.full(10,5)"
      ],
      "execution_count": 29,
      "outputs": [
        {
          "output_type": "execute_result",
          "data": {
            "text/plain": [
              "array([5, 5, 5, 5, 5, 5, 5, 5, 5, 5])"
            ]
          },
          "metadata": {
            "tags": []
          },
          "execution_count": 29
        }
      ]
    },
    {
      "cell_type": "markdown",
      "metadata": {
        "id": "igirCDhCsGDI"
      },
      "source": [
        "Q2) Create an array of all even integers between 10 to 50."
      ]
    },
    {
      "cell_type": "code",
      "metadata": {
        "colab": {
          "base_uri": "https://localhost:8080/"
        },
        "id": "y-WHdIX0M4QS",
        "outputId": "dbee80a7-c23c-4ce1-ef83-f220946f2c58"
      },
      "source": [
        "np.arange(10,51,2)"
      ],
      "execution_count": 31,
      "outputs": [
        {
          "output_type": "execute_result",
          "data": {
            "text/plain": [
              "array([10, 12, 14, 16, 18, 20, 22, 24, 26, 28, 30, 32, 34, 36, 38, 40, 42,\n",
              "       44, 46, 48, 50])"
            ]
          },
          "metadata": {
            "tags": []
          },
          "execution_count": 31
        }
      ]
    },
    {
      "cell_type": "markdown",
      "metadata": {
        "id": "jyD3ZO4GvGhf"
      },
      "source": [
        "Q3) Create a 4 x 4 matrix."
      ]
    },
    {
      "cell_type": "code",
      "metadata": {
        "colab": {
          "base_uri": "https://localhost:8080/"
        },
        "id": "gqggbuGwNS-A",
        "outputId": "4bc9cf34-0e62-4703-e7e7-d3ab5323acbd"
      },
      "source": [
        "print(\"Matrix\")\n",
        "print(np.arange(0,16).reshape(4,4))"
      ],
      "execution_count": 36,
      "outputs": [
        {
          "output_type": "stream",
          "text": [
            "Matrix\n",
            "[[ 0  1  2  3]\n",
            " [ 4  5  6  7]\n",
            " [ 8  9 10 11]\n",
            " [12 13 14 15]]\n"
          ],
          "name": "stdout"
        }
      ]
    },
    {
      "cell_type": "markdown",
      "metadata": {
        "id": "KuWGQRDawMYl"
      },
      "source": [
        "Q)4 Use numpy to generate an array of 25 random numbers sampled from a standard\n",
        "normal distribution."
      ]
    },
    {
      "cell_type": "code",
      "metadata": {
        "colab": {
          "base_uri": "https://localhost:8080/"
        },
        "id": "XZGBPkjEOunb",
        "outputId": "32ce876f-a787-4567-d64d-794ce6dd823b"
      },
      "source": [
        "rand_num = np.random.normal(0,1,25)\n",
        "print(\"25 random numbers from a standard normal distribution:\")\n",
        "print(rand_num)"
      ],
      "execution_count": 35,
      "outputs": [
        {
          "output_type": "stream",
          "text": [
            "25 random numbers from a standard normal distribution:\n",
            "[ 1.27051356 -2.17708874  0.18096274 -1.20303614 -0.11649449  2.20794955\n",
            " -0.22588732 -1.00536079  0.70278438 -2.18962621  0.03990774 -1.12415009\n",
            " -1.19368131 -1.02376754 -0.65132174 -1.68934619 -1.60998221 -2.15809015\n",
            "  0.43092475 -1.06424447 -0.06969698 -2.2109859  -0.35455415  0.55671018\n",
            " -0.04710713]\n"
          ],
          "name": "stdout"
        }
      ]
    },
    {
      "cell_type": "markdown",
      "metadata": {
        "id": "qH_TcMpDxHHs"
      },
      "source": [
        " Q5)a) Output the given matrix using numpy."
      ]
    },
    {
      "cell_type": "code",
      "metadata": {
        "colab": {
          "base_uri": "https://localhost:8080/"
        },
        "id": "LN2kVBmUO95Z",
        "outputId": "403b9f28-2f47-46df-c0d9-8c6567a20a90"
      },
      "source": [
        "arr = np.arange(1,26).reshape(5,5)\n",
        "print(arr)"
      ],
      "execution_count": 48,
      "outputs": [
        {
          "output_type": "stream",
          "text": [
            "[[ 1  2  3  4  5]\n",
            " [ 6  7  8  9 10]\n",
            " [11 12 13 14 15]\n",
            " [16 17 18 19 20]\n",
            " [21 22 23 24 25]]\n"
          ],
          "name": "stdout"
        }
      ]
    },
    {
      "cell_type": "markdown",
      "metadata": {
        "id": "Y63TB8qRytah"
      },
      "source": [
        "(b) by referring the above matrix output given matrix."
      ]
    },
    {
      "cell_type": "code",
      "metadata": {
        "colab": {
          "base_uri": "https://localhost:8080/"
        },
        "id": "7XjeG4nqPqVA",
        "outputId": "93298374-a297-4231-b346-4a3704134d82"
      },
      "source": [
        "arr[2:, 1]"
      ],
      "execution_count": 55,
      "outputs": [
        {
          "output_type": "execute_result",
          "data": {
            "text/plain": [
              "array([12, 17, 22])"
            ]
          },
          "metadata": {
            "tags": []
          },
          "execution_count": 55
        }
      ]
    },
    {
      "cell_type": "markdown",
      "metadata": {
        "id": "G-6umOdIzOMk"
      },
      "source": [
        "(c) Grab number ‘20’ from the matrix."
      ]
    },
    {
      "cell_type": "code",
      "metadata": {
        "id": "3HqKz6pLP_eM",
        "colab": {
          "base_uri": "https://localhost:8080/"
        },
        "outputId": "dd977232-265d-4266-fc63-a58ee6c2e61c"
      },
      "source": [
        "arr[3][4]"
      ],
      "execution_count": 53,
      "outputs": [
        {
          "output_type": "execute_result",
          "data": {
            "text/plain": [
              "20"
            ]
          },
          "metadata": {
            "tags": []
          },
          "execution_count": 53
        }
      ]
    },
    {
      "cell_type": "markdown",
      "metadata": {
        "id": "HDb8vJ5mzpng"
      },
      "source": [
        "(d) Output this array."
      ]
    },
    {
      "cell_type": "code",
      "metadata": {
        "colab": {
          "base_uri": "https://localhost:8080/"
        },
        "id": "UgoDNBuSslhM",
        "outputId": "99b9518b-e0fe-4c0e-9883-628e0f6f3679"
      },
      "source": [
        "array = arr[0:3,1:2]\n",
        "arr"
      ],
      "execution_count": 52,
      "outputs": [
        {
          "output_type": "execute_result",
          "data": {
            "text/plain": [
              "array([[ 1,  2,  3,  4,  5],\n",
              "       [ 6,  7,  8,  9, 10],\n",
              "       [11, 12, 13, 14, 15],\n",
              "       [16, 17, 18, 19, 20],\n",
              "       [21, 22, 23, 24, 25]])"
            ]
          },
          "metadata": {
            "tags": []
          },
          "execution_count": 52
        }
      ]
    },
    {
      "cell_type": "markdown",
      "metadata": {
        "id": "3MkwlSOY0UB9"
      },
      "source": [
        "(e) Get the standard derivation of the values in the matrix."
      ]
    },
    {
      "cell_type": "code",
      "metadata": {
        "colab": {
          "base_uri": "https://localhost:8080/"
        },
        "id": "IEaLZSBlszsG",
        "outputId": "4a3c4063-6bac-4b45-eecc-b717ea768d2e"
      },
      "source": [
        "array = np.std(arr)\n",
        "array"
      ],
      "execution_count": 49,
      "outputs": [
        {
          "output_type": "execute_result",
          "data": {
            "text/plain": [
              "7.211102550927978"
            ]
          },
          "metadata": {
            "tags": []
          },
          "execution_count": 49
        }
      ]
    },
    {
      "cell_type": "markdown",
      "metadata": {
        "id": "rog8lWT61b0c"
      },
      "source": [
        "(f) Get the sum of all columns in the matrix."
      ]
    },
    {
      "cell_type": "code",
      "metadata": {
        "colab": {
          "base_uri": "https://localhost:8080/"
        },
        "id": "XWe_ekyas_hI",
        "outputId": "597e6b75-a559-474d-ad84-622b20baabb5"
      },
      "source": [
        "arr.sum(axis=0)"
      ],
      "execution_count": 56,
      "outputs": [
        {
          "output_type": "execute_result",
          "data": {
            "text/plain": [
              "array([55, 60, 65, 70, 75])"
            ]
          },
          "metadata": {
            "tags": []
          },
          "execution_count": 56
        }
      ]
    },
    {
      "cell_type": "markdown",
      "metadata": {
        "id": "mXJlUTQDtU64"
      },
      "source": [
        "### **Pandas**\n"
      ]
    },
    {
      "cell_type": "markdown",
      "metadata": {
        "id": "IVLyj-Ge3zTp"
      },
      "source": [
        "Q)1 Import pandas & check the version."
      ]
    },
    {
      "cell_type": "code",
      "metadata": {
        "colab": {
          "base_uri": "https://localhost:8080/"
        },
        "id": "cM3zAean4Bzi",
        "outputId": "5c31e402-51df-42cc-cbcc-cd6aaa698f34"
      },
      "source": [
        "import pandas as pd\n",
        "print(pd.__version__)"
      ],
      "execution_count": 58,
      "outputs": [
        {
          "output_type": "stream",
          "text": [
            "1.1.5\n"
          ],
          "name": "stdout"
        }
      ]
    },
    {
      "cell_type": "markdown",
      "metadata": {
        "id": "EJiUXlc_4Y6G"
      },
      "source": [
        "Q)2 Create a series from a list, numpy array and dict."
      ]
    },
    {
      "cell_type": "code",
      "metadata": {
        "colab": {
          "base_uri": "https://localhost:8080/"
        },
        "id": "IKS02GLPt1n6",
        "outputId": "114d1153-ae30-4fcf-d7b1-f9c610e70bc6"
      },
      "source": [
        "mylist = list('abcedfghijklmnopqrstuvwxyz')\n",
        "myarr = np.arange(26)\n",
        "mydict = dict(zip(mylist, myarr))\n",
        "series_1 = pd.Series(mylist)\n",
        "print(series_1.head())\n",
        "series_2 = pd.Series(myarr)\n",
        "print(series_2.head())\n",
        "series_3 = pd.Series(mydict)\n",
        "print(series_3.head())"
      ],
      "execution_count": 85,
      "outputs": [
        {
          "output_type": "stream",
          "text": [
            "0    a\n",
            "1    b\n",
            "2    c\n",
            "3    e\n",
            "4    d\n",
            "dtype: object\n",
            "0    0\n",
            "1    1\n",
            "2    2\n",
            "3    3\n",
            "4    4\n",
            "dtype: int64\n",
            "a    0\n",
            "b    1\n",
            "c    2\n",
            "e    3\n",
            "d    4\n",
            "dtype: int64\n"
          ],
          "name": "stdout"
        }
      ]
    },
    {
      "cell_type": "markdown",
      "metadata": {
        "id": "54s6Cj7e9Y1i"
      },
      "source": [
        "Q3)Combine many series to form a dataframe."
      ]
    },
    {
      "cell_type": "code",
      "metadata": {
        "colab": {
          "base_uri": "https://localhost:8080/"
        },
        "id": "oi7_iBiyuiTv",
        "outputId": "2fcedf32-7a8c-49a3-cedb-561d3abacab2"
      },
      "source": [
        "ser1 = pd.Series(list('abcedfghijklmnopqrstuvwxyz'))\n",
        "ser2 = pd.Series(np.arange(26))\n",
        "combine=pd.concat([ser1, ser2])\n",
        "print(combine.head(5))\n",
        "DataFrame = pd.DataFrame({'column:1': ser1, 'column:2': ser2})\n",
        "print(DataFrame.head(10))"
      ],
      "execution_count": 84,
      "outputs": [
        {
          "output_type": "stream",
          "text": [
            "0    a\n",
            "1    b\n",
            "2    c\n",
            "3    e\n",
            "4    d\n",
            "dtype: object\n",
            "  column:1  column:2\n",
            "0        a         0\n",
            "1        b         1\n",
            "2        c         2\n",
            "3        e         3\n",
            "4        d         4\n",
            "5        f         5\n",
            "6        g         6\n",
            "7        h         7\n",
            "8        i         8\n",
            "9        j         9\n"
          ],
          "name": "stdout"
        }
      ]
    },
    {
      "cell_type": "code",
      "metadata": {
        "colab": {
          "base_uri": "https://localhost:8080/"
        },
        "id": "eklgb-Hn-yXc",
        "outputId": "5926d086-0cff-4252-d9e3-cf97a2089c6f"
      },
      "source": [
        "ser1 = pd.Series([1, 2, 3, 4, 5])\n",
        "ser2 = pd.Series([4, 5, 6, 7, 8])\n",
        "ser_u = pd.Series(np.union1d(ser1, ser2))  \n",
        "ser_i = pd.Series(np.intersect1d(ser1, ser2))  \n",
        "ser_u[~ser_u.isin(ser_i)]"
      ],
      "execution_count": 83,
      "outputs": [
        {
          "output_type": "execute_result",
          "data": {
            "text/plain": [
              "0    1\n",
              "1    2\n",
              "2    3\n",
              "5    6\n",
              "6    7\n",
              "7    8\n",
              "dtype: int64"
            ]
          },
          "metadata": {
            "tags": []
          },
          "execution_count": 83
        }
      ]
    },
    {
      "cell_type": "markdown",
      "metadata": {
        "id": "Tag-7Sk5-Hts"
      },
      "source": [
        "Q4)Get frequency counts of unique items of a series."
      ]
    },
    {
      "cell_type": "code",
      "metadata": {
        "id": "YAFvjJM7xA1G",
        "colab": {
          "base_uri": "https://localhost:8080/"
        },
        "outputId": "77ae65d5-785b-4658-fca3-85a550ac5666"
      },
      "source": [
        "ser = pd.Series(np.take(list('abcdefgh'), np.random.randint(8, size=30)))\n",
        "ser.value_counts()"
      ],
      "execution_count": 82,
      "outputs": [
        {
          "output_type": "execute_result",
          "data": {
            "text/plain": [
              "b    6\n",
              "c    6\n",
              "h    5\n",
              "g    4\n",
              "a    3\n",
              "e    2\n",
              "f    2\n",
              "d    2\n",
              "dtype: int64"
            ]
          },
          "metadata": {
            "tags": []
          },
          "execution_count": 82
        }
      ]
    },
    {
      "cell_type": "markdown",
      "metadata": {
        "id": "mHRqwZm2_Vk6"
      },
      "source": [
        "Q)5 Stack two series vertically and horizontally."
      ]
    },
    {
      "cell_type": "code",
      "metadata": {
        "id": "itqtzutVZvKN",
        "colab": {
          "base_uri": "https://localhost:8080/"
        },
        "outputId": "69260a76-aa45-422a-d1d8-c0382ccfd6dd"
      },
      "source": [
        "ser1 = pd.Series(range(5))\n",
        "ser2 = pd.Series(list('abcde'))\n",
        "veri_stack = ser1.append(series_2)\n",
        "print(veri_stack)\n",
        "hori_stack = pd.concat([ser1, ser2], axis=1)\n",
        "print(hori_stack)"
      ],
      "execution_count": 87,
      "outputs": [
        {
          "output_type": "stream",
          "text": [
            "0      0\n",
            "1      1\n",
            "2      2\n",
            "3      3\n",
            "4      4\n",
            "0      0\n",
            "1      1\n",
            "2      2\n",
            "3      3\n",
            "4      4\n",
            "5      5\n",
            "6      6\n",
            "7      7\n",
            "8      8\n",
            "9      9\n",
            "10    10\n",
            "11    11\n",
            "12    12\n",
            "13    13\n",
            "14    14\n",
            "15    15\n",
            "16    16\n",
            "17    17\n",
            "18    18\n",
            "19    19\n",
            "20    20\n",
            "21    21\n",
            "22    22\n",
            "23    23\n",
            "24    24\n",
            "25    25\n",
            "dtype: int64\n",
            "   0  1\n",
            "0  0  a\n",
            "1  1  b\n",
            "2  2  c\n",
            "3  3  d\n",
            "4  4  e\n"
          ],
          "name": "stdout"
        }
      ]
    },
    {
      "cell_type": "markdown",
      "metadata": {
        "id": "EsUc3LOgBiqq"
      },
      "source": [
        "Q)6 Convert a series of date-strings to a timeseries."
      ]
    },
    {
      "cell_type": "code",
      "metadata": {
        "colab": {
          "base_uri": "https://localhost:8080/"
        },
        "id": "s755nk25hEH4",
        "outputId": "27384b37-a9af-4efe-c23a-3f565cc6f1d4"
      },
      "source": [
        "ser = pd.Series(['01 Jan 2010', '02-02-2011', '20120303', '2013/04/04', '2014-05-05','2015-06-06T12:20'])\n",
        "pd.to_datetime(ser)"
      ],
      "execution_count": 91,
      "outputs": [
        {
          "output_type": "execute_result",
          "data": {
            "text/plain": [
              "0   2010-01-01 00:00:00\n",
              "1   2011-02-02 00:00:00\n",
              "2   2012-03-03 00:00:00\n",
              "3   2013-04-04 00:00:00\n",
              "4   2014-05-05 00:00:00\n",
              "5   2015-06-06 12:20:00\n",
              "dtype: datetime64[ns]"
            ]
          },
          "metadata": {
            "tags": []
          },
          "execution_count": 91
        }
      ]
    },
    {
      "cell_type": "markdown",
      "metadata": {
        "id": "C_emmD7UB_dW"
      },
      "source": [
        "Q7) Compute the euclidean distance between two series."
      ]
    },
    {
      "cell_type": "code",
      "metadata": {
        "colab": {
          "base_uri": "https://localhost:8080/"
        },
        "id": "dnzzpyzOjSh6",
        "outputId": "bca27dcb-39b9-4d55-fc72-bbc233dae9bc"
      },
      "source": [
        "p = pd.Series([1, 2, 3, 4, 5, 6, 7, 8, 9, 10])\n",
        "q = pd.Series([10, 9, 8, 7, 6, 5, 4, 3, 2, 1])\n",
        "sum((p - q)**2)**.5"
      ],
      "execution_count": 93,
      "outputs": [
        {
          "output_type": "execute_result",
          "data": {
            "text/plain": [
              "18.16590212458495"
            ]
          },
          "metadata": {
            "tags": []
          },
          "execution_count": 93
        }
      ]
    },
    {
      "cell_type": "markdown",
      "metadata": {
        "id": "Tar2pk47CxAr"
      },
      "source": [
        "Q8)Import only specific columns from a csv file(first and second)."
      ]
    },
    {
      "cell_type": "code",
      "metadata": {
        "colab": {
          "base_uri": "https://localhost:8080/"
        },
        "id": "MA8KzaTzj2fJ",
        "outputId": "f204b374-fd2f-4cbc-a760-f99e1101ae09"
      },
      "source": [
        "data_1 = pd.read_csv('/content/drive/MyDrive/Colab Notebooks/company_sales_data.csv', usecols=['month_number', 'facecream'])\n",
        "print(data_1.head())"
      ],
      "execution_count": 98,
      "outputs": [
        {
          "output_type": "stream",
          "text": [
            "   month_number  facecream\n",
            "0             1       2500\n",
            "1             2       2630\n",
            "2             3       2140\n",
            "3             4       3400\n",
            "4             5       3600\n"
          ],
          "name": "stdout"
        }
      ]
    },
    {
      "cell_type": "markdown",
      "metadata": {
        "id": "Gg9uMO1dEB7M"
      },
      "source": [
        "Q9) Use iloc(2 columns and 10 rows(any))."
      ]
    },
    {
      "cell_type": "code",
      "metadata": {
        "colab": {
          "base_uri": "https://localhost:8080/",
          "height": 357
        },
        "id": "D0uoqmw3kfVY",
        "outputId": "cd8260d2-f37e-435d-dc12-56e372d2a6a7"
      },
      "source": [
        "iloc = data_.iloc[0:10,2:4]\n",
        "iloc"
      ],
      "execution_count": 111,
      "outputs": [
        {
          "output_type": "execute_result",
          "data": {
            "text/html": [
              "<div>\n",
              "<style scoped>\n",
              "    .dataframe tbody tr th:only-of-type {\n",
              "        vertical-align: middle;\n",
              "    }\n",
              "\n",
              "    .dataframe tbody tr th {\n",
              "        vertical-align: top;\n",
              "    }\n",
              "\n",
              "    .dataframe thead th {\n",
              "        text-align: right;\n",
              "    }\n",
              "</style>\n",
              "<table border=\"1\" class=\"dataframe\">\n",
              "  <thead>\n",
              "    <tr style=\"text-align: right;\">\n",
              "      <th></th>\n",
              "      <th>facewash</th>\n",
              "      <th>toothpaste</th>\n",
              "    </tr>\n",
              "  </thead>\n",
              "  <tbody>\n",
              "    <tr>\n",
              "      <th>0</th>\n",
              "      <td>1500</td>\n",
              "      <td>5200</td>\n",
              "    </tr>\n",
              "    <tr>\n",
              "      <th>1</th>\n",
              "      <td>1200</td>\n",
              "      <td>5100</td>\n",
              "    </tr>\n",
              "    <tr>\n",
              "      <th>2</th>\n",
              "      <td>1340</td>\n",
              "      <td>4550</td>\n",
              "    </tr>\n",
              "    <tr>\n",
              "      <th>3</th>\n",
              "      <td>1130</td>\n",
              "      <td>5870</td>\n",
              "    </tr>\n",
              "    <tr>\n",
              "      <th>4</th>\n",
              "      <td>1740</td>\n",
              "      <td>4560</td>\n",
              "    </tr>\n",
              "    <tr>\n",
              "      <th>5</th>\n",
              "      <td>1555</td>\n",
              "      <td>4890</td>\n",
              "    </tr>\n",
              "    <tr>\n",
              "      <th>6</th>\n",
              "      <td>1120</td>\n",
              "      <td>4780</td>\n",
              "    </tr>\n",
              "    <tr>\n",
              "      <th>7</th>\n",
              "      <td>1400</td>\n",
              "      <td>5860</td>\n",
              "    </tr>\n",
              "    <tr>\n",
              "      <th>8</th>\n",
              "      <td>1780</td>\n",
              "      <td>6100</td>\n",
              "    </tr>\n",
              "    <tr>\n",
              "      <th>9</th>\n",
              "      <td>1890</td>\n",
              "      <td>8300</td>\n",
              "    </tr>\n",
              "  </tbody>\n",
              "</table>\n",
              "</div>"
            ],
            "text/plain": [
              "   facewash  toothpaste\n",
              "0      1500        5200\n",
              "1      1200        5100\n",
              "2      1340        4550\n",
              "3      1130        5870\n",
              "4      1740        4560\n",
              "5      1555        4890\n",
              "6      1120        4780\n",
              "7      1400        5860\n",
              "8      1780        6100\n",
              "9      1890        8300"
            ]
          },
          "metadata": {
            "tags": []
          },
          "execution_count": 111
        }
      ]
    },
    {
      "cell_type": "markdown",
      "metadata": {
        "id": "t9TzCt1BEwuu"
      },
      "source": [
        "Q10) Find out the unique values in each column."
      ]
    },
    {
      "cell_type": "code",
      "metadata": {
        "colab": {
          "base_uri": "https://localhost:8080/"
        },
        "id": "pUanYKlBlJCR",
        "outputId": "d0f10971-d45a-4131-cc49-c45ffaef3357"
      },
      "source": [
        "for col in data_:\n",
        "  print(data_[col].unique())"
      ],
      "execution_count": 110,
      "outputs": [
        {
          "output_type": "stream",
          "text": [
            "[ 1  2  3  4  5  6  7  8  9 10 11 12]\n",
            "[2500 2630 2140 3400 3600 2760 2980 3700 3540 1990 2340 2900]\n",
            "[1500 1200 1340 1130 1740 1555 1120 1400 1780 1890 2100 1760]\n",
            "[5200 5100 4550 5870 4560 4890 4780 5860 6100 8300 7300 7400]\n",
            "[ 9200  6100  9550  8870  7760  7490  8980  9960  8100 10300 13300 14400]\n",
            "[1200 2100 3550 1870 1560 1890 1780 2860 2300 2400 1800]\n",
            "[1500 1200 1340 1130 1740 1555 1120 1400 1780 1890 2100 1760]\n",
            "[21100 18330 22470 22270 20960 20140 29550 36140 23400 26670 41280 30020]\n",
            "[211000 183300 224700 222700 209600 201400 295500 361400 234000 266700\n",
            " 412800 300200]\n"
          ],
          "name": "stdout"
        }
      ]
    },
    {
      "cell_type": "markdown",
      "metadata": {
        "id": "PRj6tR8hlaNg"
      },
      "source": [
        "### **Check Null Values**\n",
        "\n"
      ]
    },
    {
      "cell_type": "code",
      "metadata": {
        "colab": {
          "base_uri": "https://localhost:8080/"
        },
        "id": "EvMY-b_OlSg2",
        "outputId": "13ddd423-638e-4bc2-b08b-e1f5c11f9847"
      },
      "source": [
        "data_.isnull().values.any()"
      ],
      "execution_count": 114,
      "outputs": [
        {
          "output_type": "execute_result",
          "data": {
            "text/plain": [
              "False"
            ]
          },
          "metadata": {
            "tags": []
          },
          "execution_count": 114
        }
      ]
    },
    {
      "cell_type": "markdown",
      "metadata": {
        "id": "c2XuYnPWl8Ci"
      },
      "source": [
        "### **Read and print the first and last five rows of the dataframe.**\n"
      ]
    },
    {
      "cell_type": "code",
      "metadata": {
        "colab": {
          "base_uri": "https://localhost:8080/",
          "height": 203
        },
        "id": "qRlT1lFZmC1U",
        "outputId": "5c0f1680-2f3b-4fc4-c2c3-e3036446d7ef"
      },
      "source": [
        "data_.head()"
      ],
      "execution_count": 118,
      "outputs": [
        {
          "output_type": "execute_result",
          "data": {
            "text/html": [
              "<div>\n",
              "<style scoped>\n",
              "    .dataframe tbody tr th:only-of-type {\n",
              "        vertical-align: middle;\n",
              "    }\n",
              "\n",
              "    .dataframe tbody tr th {\n",
              "        vertical-align: top;\n",
              "    }\n",
              "\n",
              "    .dataframe thead th {\n",
              "        text-align: right;\n",
              "    }\n",
              "</style>\n",
              "<table border=\"1\" class=\"dataframe\">\n",
              "  <thead>\n",
              "    <tr style=\"text-align: right;\">\n",
              "      <th></th>\n",
              "      <th>month_number</th>\n",
              "      <th>facecream</th>\n",
              "      <th>facewash</th>\n",
              "      <th>toothpaste</th>\n",
              "      <th>bathingsoap</th>\n",
              "      <th>shampoo</th>\n",
              "      <th>moisturizer</th>\n",
              "      <th>total_units</th>\n",
              "      <th>total_profit</th>\n",
              "    </tr>\n",
              "  </thead>\n",
              "  <tbody>\n",
              "    <tr>\n",
              "      <th>0</th>\n",
              "      <td>1</td>\n",
              "      <td>2500</td>\n",
              "      <td>1500</td>\n",
              "      <td>5200</td>\n",
              "      <td>9200</td>\n",
              "      <td>1200</td>\n",
              "      <td>1500</td>\n",
              "      <td>21100</td>\n",
              "      <td>211000</td>\n",
              "    </tr>\n",
              "    <tr>\n",
              "      <th>1</th>\n",
              "      <td>2</td>\n",
              "      <td>2630</td>\n",
              "      <td>1200</td>\n",
              "      <td>5100</td>\n",
              "      <td>6100</td>\n",
              "      <td>2100</td>\n",
              "      <td>1200</td>\n",
              "      <td>18330</td>\n",
              "      <td>183300</td>\n",
              "    </tr>\n",
              "    <tr>\n",
              "      <th>2</th>\n",
              "      <td>3</td>\n",
              "      <td>2140</td>\n",
              "      <td>1340</td>\n",
              "      <td>4550</td>\n",
              "      <td>9550</td>\n",
              "      <td>3550</td>\n",
              "      <td>1340</td>\n",
              "      <td>22470</td>\n",
              "      <td>224700</td>\n",
              "    </tr>\n",
              "    <tr>\n",
              "      <th>3</th>\n",
              "      <td>4</td>\n",
              "      <td>3400</td>\n",
              "      <td>1130</td>\n",
              "      <td>5870</td>\n",
              "      <td>8870</td>\n",
              "      <td>1870</td>\n",
              "      <td>1130</td>\n",
              "      <td>22270</td>\n",
              "      <td>222700</td>\n",
              "    </tr>\n",
              "    <tr>\n",
              "      <th>4</th>\n",
              "      <td>5</td>\n",
              "      <td>3600</td>\n",
              "      <td>1740</td>\n",
              "      <td>4560</td>\n",
              "      <td>7760</td>\n",
              "      <td>1560</td>\n",
              "      <td>1740</td>\n",
              "      <td>20960</td>\n",
              "      <td>209600</td>\n",
              "    </tr>\n",
              "  </tbody>\n",
              "</table>\n",
              "</div>"
            ],
            "text/plain": [
              "   month_number  facecream  facewash  ...  moisturizer  total_units  total_profit\n",
              "0             1       2500      1500  ...         1500        21100        211000\n",
              "1             2       2630      1200  ...         1200        18330        183300\n",
              "2             3       2140      1340  ...         1340        22470        224700\n",
              "3             4       3400      1130  ...         1130        22270        222700\n",
              "4             5       3600      1740  ...         1740        20960        209600\n",
              "\n",
              "[5 rows x 9 columns]"
            ]
          },
          "metadata": {
            "tags": []
          },
          "execution_count": 118
        }
      ]
    },
    {
      "cell_type": "code",
      "metadata": {
        "colab": {
          "base_uri": "https://localhost:8080/",
          "height": 203
        },
        "id": "DGng2xxhmhan",
        "outputId": "cd207820-9037-4ea6-baf9-e9b2b5c6af3a"
      },
      "source": [
        "data_.tail()"
      ],
      "execution_count": 119,
      "outputs": [
        {
          "output_type": "execute_result",
          "data": {
            "text/html": [
              "<div>\n",
              "<style scoped>\n",
              "    .dataframe tbody tr th:only-of-type {\n",
              "        vertical-align: middle;\n",
              "    }\n",
              "\n",
              "    .dataframe tbody tr th {\n",
              "        vertical-align: top;\n",
              "    }\n",
              "\n",
              "    .dataframe thead th {\n",
              "        text-align: right;\n",
              "    }\n",
              "</style>\n",
              "<table border=\"1\" class=\"dataframe\">\n",
              "  <thead>\n",
              "    <tr style=\"text-align: right;\">\n",
              "      <th></th>\n",
              "      <th>month_number</th>\n",
              "      <th>facecream</th>\n",
              "      <th>facewash</th>\n",
              "      <th>toothpaste</th>\n",
              "      <th>bathingsoap</th>\n",
              "      <th>shampoo</th>\n",
              "      <th>moisturizer</th>\n",
              "      <th>total_units</th>\n",
              "      <th>total_profit</th>\n",
              "    </tr>\n",
              "  </thead>\n",
              "  <tbody>\n",
              "    <tr>\n",
              "      <th>7</th>\n",
              "      <td>8</td>\n",
              "      <td>3700</td>\n",
              "      <td>1400</td>\n",
              "      <td>5860</td>\n",
              "      <td>9960</td>\n",
              "      <td>2860</td>\n",
              "      <td>1400</td>\n",
              "      <td>36140</td>\n",
              "      <td>361400</td>\n",
              "    </tr>\n",
              "    <tr>\n",
              "      <th>8</th>\n",
              "      <td>9</td>\n",
              "      <td>3540</td>\n",
              "      <td>1780</td>\n",
              "      <td>6100</td>\n",
              "      <td>8100</td>\n",
              "      <td>2100</td>\n",
              "      <td>1780</td>\n",
              "      <td>23400</td>\n",
              "      <td>234000</td>\n",
              "    </tr>\n",
              "    <tr>\n",
              "      <th>9</th>\n",
              "      <td>10</td>\n",
              "      <td>1990</td>\n",
              "      <td>1890</td>\n",
              "      <td>8300</td>\n",
              "      <td>10300</td>\n",
              "      <td>2300</td>\n",
              "      <td>1890</td>\n",
              "      <td>26670</td>\n",
              "      <td>266700</td>\n",
              "    </tr>\n",
              "    <tr>\n",
              "      <th>10</th>\n",
              "      <td>11</td>\n",
              "      <td>2340</td>\n",
              "      <td>2100</td>\n",
              "      <td>7300</td>\n",
              "      <td>13300</td>\n",
              "      <td>2400</td>\n",
              "      <td>2100</td>\n",
              "      <td>41280</td>\n",
              "      <td>412800</td>\n",
              "    </tr>\n",
              "    <tr>\n",
              "      <th>11</th>\n",
              "      <td>12</td>\n",
              "      <td>2900</td>\n",
              "      <td>1760</td>\n",
              "      <td>7400</td>\n",
              "      <td>14400</td>\n",
              "      <td>1800</td>\n",
              "      <td>1760</td>\n",
              "      <td>30020</td>\n",
              "      <td>300200</td>\n",
              "    </tr>\n",
              "  </tbody>\n",
              "</table>\n",
              "</div>"
            ],
            "text/plain": [
              "    month_number  facecream  facewash  ...  moisturizer  total_units  total_profit\n",
              "7              8       3700      1400  ...         1400        36140        361400\n",
              "8              9       3540      1780  ...         1780        23400        234000\n",
              "9             10       1990      1890  ...         1890        26670        266700\n",
              "10            11       2340      2100  ...         2100        41280        412800\n",
              "11            12       2900      1760  ...         1760        30020        300200\n",
              "\n",
              "[5 rows x 9 columns]"
            ]
          },
          "metadata": {
            "tags": []
          },
          "execution_count": 119
        }
      ]
    },
    {
      "cell_type": "markdown",
      "metadata": {
        "id": "XPGgwhOGmrlA"
      },
      "source": [
        "### **Seaborn**\n",
        "\n",
        "\n",
        "\n",
        "\n"
      ]
    },
    {
      "cell_type": "code",
      "metadata": {
        "colab": {
          "base_uri": "https://localhost:8080/",
          "height": 458
        },
        "id": "ZEWcHjOfmk_W",
        "outputId": "2e07507e-4a43-472f-b9cf-755acdfa7aac"
      },
      "source": [
        "import seaborn as sns\n",
        "sns.jointplot(data=data_, x=\"month_number\", y=\"total_units\")\n"
      ],
      "execution_count": 145,
      "outputs": [
        {
          "output_type": "execute_result",
          "data": {
            "text/plain": [
              "<seaborn.axisgrid.JointGrid at 0x7f9a1c7a3ed0>"
            ]
          },
          "metadata": {
            "tags": []
          },
          "execution_count": 145
        },
        {
          "output_type": "display_data",
          "data": {
            "image/png": "[encoded data removed]",
            "text/plain": [
              "<Figure size 432x432 with 3 Axes>"
            ]
          },
          "metadata": {
            "tags": [],
            "needs_background": "light"
          }
        }
      ]
    },
    {
      "cell_type": "code",
      "metadata": {
        "colab": {
          "base_uri": "https://localhost:8080/",
          "height": 369
        },
        "id": "GzHRMYJCnxON",
        "outputId": "d965bab7-c72c-4439-f414-77f0422ca52b"
      },
      "source": [
        "Z= sns.displot(data_, bins=30, kde=False)"
      ],
      "execution_count": 126,
      "outputs": [
        {
          "output_type": "display_data",
          "data": {
            "image/png": "[encoded data removed]",
            "text/plain": [
              "<Figure size 472.125x360 with 1 Axes>"
            ]
          },
          "metadata": {
            "tags": [],
            "needs_background": "light"
          }
        }
      ]
    },
    {
      "cell_type": "code",
      "metadata": {
        "colab": {
          "base_uri": "https://localhost:8080/",
          "height": 298
        },
        "id": "3HlFIMsEoNqG",
        "outputId": "0fd62d3a-7c01-4e48-eaff-375cebd6fdc5"
      },
      "source": [
        "sns.scatterplot(x=\"month_number\", y=\"total_units\", hue=\"total_units\", data=data_ )"
      ],
      "execution_count": 127,
      "outputs": [
        {
          "output_type": "execute_result",
          "data": {
            "text/plain": [
              "<matplotlib.axes._subplots.AxesSubplot at 0x7f9a244fcfd0>"
            ]
          },
          "metadata": {
            "tags": []
          },
          "execution_count": 127
        },
        {
          "output_type": "display_data",
          "data": {
            "image/png": "[encoded data removed]",
            "text/plain": [
              "<Figure size 432x288 with 1 Axes>"
            ]
          },
          "metadata": {
            "tags": [],
            "needs_background": "light"
          }
        }
      ]
    },
    {
      "cell_type": "code",
      "metadata": {
        "colab": {
          "base_uri": "https://localhost:8080/",
          "height": 298
        },
        "id": "hA5uKIZ2pY5d",
        "outputId": "cfd25fac-98ca-43fb-c1f3-3524315668ad"
      },
      "source": [
        "sns.set_palette(\"rainbow\")\n",
        "sns.swarmplot(x=\"month_number\", y=\"total_units\", data=data_)"
      ],
      "execution_count": 132,
      "outputs": [
        {
          "output_type": "execute_result",
          "data": {
            "text/plain": [
              "<matplotlib.axes._subplots.AxesSubplot at 0x7f9a24166d90>"
            ]
          },
          "metadata": {
            "tags": []
          },
          "execution_count": 132
        },
        {
          "output_type": "display_data",
          "data": {
            "image/png": "[encoded data removed]",
            "text/plain": [
              "<Figure size 432x288 with 1 Axes>"
            ]
          },
          "metadata": {
            "tags": [],
            "needs_background": "light"
          }
        }
      ]
    },
    {
      "cell_type": "code",
      "metadata": {
        "colab": {
          "base_uri": "https://localhost:8080/",
          "height": 298
        },
        "id": "QZKpXIz3qpoO",
        "outputId": "1bf621eb-a2b6-4985-952d-67d6d0564d4f"
      },
      "source": [
        "sns.countplot(x=\"month_number\", hue=\"total_units\", data=data_)"
      ],
      "execution_count": 136,
      "outputs": [
        {
          "output_type": "execute_result",
          "data": {
            "text/plain": [
              "<matplotlib.axes._subplots.AxesSubplot at 0x7f9a240fdc10>"
            ]
          },
          "metadata": {
            "tags": []
          },
          "execution_count": 136
        },
        {
          "output_type": "display_data",
          "data": {
            "image/png": "[encoded data removed]",
            "text/plain": [
              "<Figure size 432x288 with 1 Axes>"
            ]
          },
          "metadata": {
            "tags": [],
            "needs_background": "light"
          }
        }
      ]
    },
    {
      "cell_type": "code",
      "metadata": {
        "colab": {
          "base_uri": "https://localhost:8080/",
          "height": 564
        },
        "id": "9iOc4BItrHJR",
        "outputId": "56801ac2-b13c-4fe0-f261-b509aa7628d6"
      },
      "source": [
        "print(data_.corr())\n",
        "sns.heatmap(data=data_.corr(), cmap=\"cividis_r\")"
      ],
      "execution_count": 184,
      "outputs": [
        {
          "output_type": "stream",
          "text": [
            "              month_number  facecream  ...  total_units  total_profit\n",
            "month_number      1.000000   0.042267  ...     0.709335      0.709335\n",
            "facecream         0.042267   1.000000  ...    -0.006310     -0.006310\n",
            "facewash          0.660922  -0.211348  ...     0.412600      0.412600\n",
            "toothpaste        0.763190  -0.284831  ...     0.534979      0.534979\n",
            "bathingsoap       0.705964  -0.243513  ...     0.745280      0.745280\n",
            "shampoo           0.112043  -0.243586  ...     0.297472      0.297472\n",
            "moisturizer       0.660922  -0.211348  ...     0.412600      0.412600\n",
            "total_units       0.709335  -0.006310  ...     1.000000      1.000000\n",
            "total_profit      0.709335  -0.006310  ...     1.000000      1.000000\n",
            "\n",
            "[9 rows x 9 columns]\n"
          ],
          "name": "stdout"
        },
        {
          "output_type": "execute_result",
          "data": {
            "text/plain": [
              "<matplotlib.axes._subplots.AxesSubplot at 0x7f9a19b1df90>"
            ]
          },
          "metadata": {
            "tags": []
          },
          "execution_count": 184
        },
        {
          "output_type": "display_data",
          "data": {
            "image/png": "[encoded data removed]",
            "text/plain": [
              "<Figure size 432x288 with 2 Axes>"
            ]
          },
          "metadata": {
            "tags": [],
            "needs_background": "light"
          }
        }
      ]
    },
    {
      "cell_type": "code",
      "metadata": {
        "colab": {
          "base_uri": "https://localhost:8080/",
          "height": 248
        },
        "id": "fKH4EC1XrjOY",
        "outputId": "044a7f82-3b78-4293-979f-dc0a25b32436"
      },
      "source": [
        "Z = sns.FacetGrid(data_,hue=\"total_units\")\n",
        "Z.map_dataframe(sns.scatterplot, x=\"month_number\", y=\"total_units\")\n",
        "Z.add_legend()\n"
      ],
      "execution_count": 173,
      "outputs": [
        {
          "output_type": "execute_result",
          "data": {
            "text/plain": [
              "<seaborn.axisgrid.FacetGrid at 0x7f9a1b5ef3d0>"
            ]
          },
          "metadata": {
            "tags": []
          },
          "execution_count": 173
        },
        {
          "output_type": "display_data",
          "data": {
            "image/png": "[encoded data removed]",
            "text/plain": [
              "<Figure size 283.75x216 with 1 Axes>"
            ]
          },
          "metadata": {
            "tags": [],
            "needs_background": "light"
          }
        }
      ]
    },
    {
      "cell_type": "code",
      "metadata": {
        "colab": {
          "base_uri": "https://localhost:8080/",
          "height": 1000
        },
        "id": "_k-ZuoqptLUq",
        "outputId": "db364d99-ae6b-4164-b4d6-c00dc92b7b00"
      },
      "source": [
        "sns.pairplot(data_)"
      ],
      "execution_count": 174,
      "outputs": [
        {
          "output_type": "execute_result",
          "data": {
            "text/plain": [
              "<seaborn.axisgrid.PairGrid at 0x7f9a1b4f5a90>"
            ]
          },
          "metadata": {
            "tags": []
          },
          "execution_count": 174
        },
        {
          "output_type": "display_data",
          "data": {
            "image/png": "[encoded data removed]",
            "text/plain": [
              "<Figure size 1620x1620 with 90 Axes>"
            ]
          },
          "metadata": {
            "tags": [],
            "needs_background": "light"
          }
        }
      ]
    },
    {
      "cell_type": "markdown",
      "metadata": {
        "id": "-TlvRj2ZvNcA"
      },
      "source": [
        "### **Matplotlib**\n",
        "\n",
        "\n"
      ]
    },
    {
      "cell_type": "code",
      "metadata": {
        "id": "b0ra0JXzvRQ3",
        "colab": {
          "base_uri": "https://localhost:8080/",
          "height": 297
        },
        "outputId": "a91c658b-b56b-4c65-e1c4-05d915f0ccf0"
      },
      "source": [
        "import matplotlib.pyplot as plt\n",
        "totalprofit = data_[\"total_profit\"].tolist()\n",
        "month = data_[\"month_number\"].tolist()\n",
        "plt.plot(month, totalprofit)\n",
        "plt.xlabel(\"Month number\")\n",
        "plt.ylabel(\"Total Profit\")\n",
        "plt.legend([\"Profit line\"])"
      ],
      "execution_count": 175,
      "outputs": [
        {
          "output_type": "execute_result",
          "data": {
            "text/plain": [
              "<matplotlib.legend.Legend at 0x7f9a1bbfee10>"
            ]
          },
          "metadata": {
            "tags": []
          },
          "execution_count": 175
        },
        {
          "output_type": "display_data",
          "data": {
            "image/png": "[encoded data removed]",
            "text/plain": [
              "<Figure size 432x288 with 1 Axes>"
            ]
          },
          "metadata": {
            "tags": [],
            "needs_background": "light"
          }
        }
      ]
    },
    {
      "cell_type": "code",
      "metadata": {
        "colab": {
          "base_uri": "https://localhost:8080/",
          "height": 295
        },
        "id": "zN8FLDfjwjtD",
        "outputId": "8f764bdd-1e18-485f-d96c-b78d62ec5d92"
      },
      "source": [
        "facecream  = data_ ['facecream'].tolist()\n",
        "facewash  = data_ ['facewash'].tolist()\n",
        "toothpaste = data_ ['toothpaste'].tolist()\n",
        "bathingsoap  = data_ ['bathingsoap'].tolist()\n",
        "shampoo  = data_ ['shampoo'].tolist()\n",
        "moisturizer = data_ ['moisturizer'].tolist()\n",
        "plt.plot(month, facecream,   label = 'Face cream Sales Data', marker='o', linewidth=3)\n",
        "plt.plot(month, facewash,   label = 'Face Wash Sales Data',  marker='o', linewidth=3)\n",
        "plt.plot(month, toothpaste, label = 'ToothPaste Sales Data', marker='o', linewidth=3)\n",
        "plt.plot(month, bathingsoap, label = 'ToothPaste Sales Data', marker='o', linewidth=3)\n",
        "plt.plot(month, shampoo, label = 'ToothPaste Sales Data', marker='o', linewidth=3)\n",
        "plt.plot(month, moisturizer, label = 'ToothPaste Sales Data', marker='o', linewidth=3)\n",
        "plt.xlabel('Month Number')\n",
        "plt.ylabel('Sales units in number')\n",
        "plt.legend(loc='upper left')\n",
        "plt.xticks(month)\n",
        "plt.yticks([1000, 2000, 4000, 6000, 8000, 10000, 12000, 15000, 18000])\n",
        "plt.title('Sales data')\n",
        "plt.show()"
      ],
      "execution_count": 176,
      "outputs": [
        {
          "output_type": "display_data",
          "data": {
            "image/png": "[encoded data removed]",
            "text/plain": [
              "<Figure size 432x288 with 1 Axes>"
            ]
          },
          "metadata": {
            "tags": [],
            "needs_background": "light"
          }
        }
      ]
    },
    {
      "cell_type": "code",
      "metadata": {
        "colab": {
          "base_uri": "https://localhost:8080/",
          "height": 295
        },
        "id": "my7xU5ThxYLN",
        "outputId": "d1010890-5204-483c-d8b7-7690740c228c"
      },
      "source": [
        "plt.scatter(month, toothpaste , label = 'Toothpaste Sales data')\n",
        "plt.xlabel('Month Number')\n",
        "plt.ylabel('Number of units Sold')\n",
        "plt.legend(loc='upper left')\n",
        "plt.title(' Toothpaste Sales data')\n",
        "plt.xticks(month)\n",
        "plt.show()"
      ],
      "execution_count": 177,
      "outputs": [
        {
          "output_type": "display_data",
          "data": {
            "image/png": "[encoded data removed]",
            "text/plain": [
              "<Figure size 432x288 with 1 Axes>"
            ]
          },
          "metadata": {
            "tags": [],
            "needs_background": "light"
          }
        }
      ]
    },
    {
      "cell_type": "code",
      "metadata": {
        "colab": {
          "base_uri": "https://localhost:8080/",
          "height": 295
        },
        "id": "o7w6HlGAyXqW",
        "outputId": "d7df3aac-5886-4736-f84e-5e2cf68e17de"
      },
      "source": [
        "plt.scatter(month, toothpaste, label = 'Toothpaste Sales data')\n",
        "plt.xlabel('Month Number')\n",
        "plt.ylabel('Number of units Sold')\n",
        "plt.legend(loc='upper left')\n",
        "plt.title(' Toothpaste Sales data')\n",
        "plt.xticks(month)\n",
        "plt.grid(True, linewidth= 1, linestyle=\"--\")\n",
        "plt.show()"
      ],
      "execution_count": 178,
      "outputs": [
        {
          "output_type": "display_data",
          "data": {
            "image/png": "[encoded data removed]",
            "text/plain": [
              "<Figure size 432x288 with 1 Axes>"
            ]
          },
          "metadata": {
            "tags": [],
            "needs_background": "light"
          }
        }
      ]
    },
    {
      "cell_type": "code",
      "metadata": {
        "colab": {
          "base_uri": "https://localhost:8080/",
          "height": 313
        },
        "id": "8GQp-WJ5zsib",
        "outputId": "82cf07e0-7b06-45cb-f52d-771f622af436"
      },
      "source": [
        "plt.bar([a-0.25 for a in month], facecream, width= 0.25, label='Face Cream sales data', align='edge')\n",
        "plt.bar([a+0.25 for a in month], facewash, width= -0.25, label='Face Wash sales data', align='edge')\n",
        "plt.xlabel('Month Number')\n",
        "plt.ylabel('Sales units in number')\n",
        "plt.legend(loc='upper left')\n",
        "plt.title(' Sales data')\n",
        "plt.xticks(month)\n",
        "plt.grid(True, linewidth= 1, linestyle=\"--\")\n",
        "plt.title('Facewash and facecream sales data')"
      ],
      "execution_count": 179,
      "outputs": [
        {
          "output_type": "execute_result",
          "data": {
            "text/plain": [
              "Text(0.5, 1.0, 'Facewash and facecream sales data')"
            ]
          },
          "metadata": {
            "tags": []
          },
          "execution_count": 179
        },
        {
          "output_type": "display_data",
          "data": {
            "image/png": "[encoded data removed]",
            "text/plain": [
              "<Figure size 432x288 with 1 Axes>"
            ]
          },
          "metadata": {
            "tags": [],
            "needs_background": "light"
          }
        }
      ]
    },
    {
      "cell_type": "code",
      "metadata": {
        "colab": {
          "base_uri": "https://localhost:8080/",
          "height": 313
        },
        "id": "PdwE1s0s0Eby",
        "outputId": "671c0694-f755-4b9c-9f7a-47b1042bc999"
      },
      "source": [
        "profit=data_ ['total_profit'].tolist()\n",
        "profit_range = [150000, 175000, 200000, 225000, 250000, 300000, 350000]\n",
        "plt.hist(profit, profit_range, label = 'Profit data')\n",
        "plt.xlabel('Profit Range')\n",
        "plt.ylabel('Actual Profit')\n",
        "plt.legend(loc='upper left')\n",
        "plt.xticks(profit_range)\n",
        "plt.title('Profit data')"
      ],
      "execution_count": 185,
      "outputs": [
        {
          "output_type": "execute_result",
          "data": {
            "text/plain": [
              "Text(0.5, 1.0, 'Profit data')"
            ]
          },
          "metadata": {
            "tags": []
          },
          "execution_count": 185
        },
        {
          "output_type": "display_data",
          "data": {
            "image/png": "[encoded data removed]",
            "text/plain": [
              "<Figure size 432x288 with 1 Axes>"
            ]
          },
          "metadata": {
            "tags": [],
            "needs_background": "light"
          }
        }
      ]
    },
    {
      "cell_type": "code",
      "metadata": {
        "colab": {
          "base_uri": "https://localhost:8080/",
          "height": 282
        },
        "id": "tFEFQThF2HU2",
        "outputId": "79aa2417-f0e0-4295-e075-8b79018cff5a"
      },
      "source": [
        "month = data_['month_number'].tolist()\n",
        "products = ['FaceCream', 'FaceWash', 'ToothPaste', 'Bathing soap', 'Shampoo', \"Moisturizer\"] \n",
        "salesData   = [data_['facecream'].sum(), data_['facewash'].sum(), data_['toothpaste'].sum(), data_['bathingsoap'].sum(), data_['shampoo'].sum(), data_['moisturizer'].sum()]\n",
        "plt.axis(\"equal\")\n",
        "plt.pie(salesData, labels=salesData, autopct='%1.1f%%')\n",
        "plt.legend(loc='upper right')\n",
        "plt.title('Sales Data')"
      ],
      "execution_count": 195,
      "outputs": [
        {
          "output_type": "execute_result",
          "data": {
            "text/plain": [
              "Text(0.5, 1.0, 'Sales Data')"
            ]
          },
          "metadata": {
            "tags": []
          },
          "execution_count": 195
        },
        {
          "output_type": "display_data",
          "data": {
            "image/png": "[encoded data removed]",
            "text/plain": [
              "<Figure size 432x288 with 1 Axes>"
            ]
          },
          "metadata": {
            "tags": []
          }
        }
      ]
    },
    {
      "cell_type": "code",
      "metadata": {
        "colab": {
          "base_uri": "https://localhost:8080/",
          "height": 297
        },
        "id": "T2n91hl74KkM",
        "outputId": "02e8ae8b-1b05-48b0-9fa4-b94de17f1dd0"
      },
      "source": [
        "plt.plot([],[],color='b', label='Face Cream', linewidth=5)\n",
        "plt.plot([],[],color='c', label='Face wash', linewidth=5)\n",
        "plt.plot([],[],color='r', label='Tooth Paste', linewidth=5)\n",
        "plt.plot([],[],color='w', label='Bathing Soap', linewidth=5)\n",
        "plt.plot([],[],color='k', label='Shampoo', linewidth=5)\n",
        "plt.plot([],[],color='g', label='Moisturizer', linewidth=5)\n",
        "plt.stackplot(month, facecream, facewash, toothpaste, bathingsoap, shampoo, moisturizer, color=['b','c','r','w','k','g'])\n",
        "plt.xlabel('Month Number')\n",
        "plt.ylabel('Sales units in Number')\n",
        "plt.legend(loc='upper right')"
      ],
      "execution_count": 233,
      "outputs": [
        {
          "output_type": "execute_result",
          "data": {
            "text/plain": [
              "<matplotlib.legend.Legend at 0x7f9a181d61d0>"
            ]
          },
          "metadata": {
            "tags": []
          },
          "execution_count": 233
        },
        {
          "output_type": "display_data",
          "data": {
            "image/png": "[encoded data removed]",
            "text/plain": [
              "<Figure size 432x288 with 1 Axes>"
            ]
          },
          "metadata": {
            "tags": [],
            "needs_background": "light"
          }
        }
      ]
    },
    {
      "cell_type": "markdown",
      "metadata": {
        "id": "Mz_htKJI3cP2"
      },
      "source": [
        "### **Define Evaluation Matrices & its types**\n"
      ]
    },
    {
      "cell_type": "markdown",
      "metadata": {
        "id": "HwrNwldgT4B7"
      },
      "source": [
        " **Evaluation Report:**\n",
        "\n",
        " A evaluation report is a written document that describes how you monitored and evaluated your program. It presents the findings, conclusions, and recommendations from a particular evaluation, including recommendations for how evaluation results can be used to guide program improvement and decision making.\n",
        "\n",
        "  **Types of Evaluation reports:**\n",
        "\n",
        "1)Formative evaluation\n",
        "\n",
        "2)Process evaluation\n",
        "\n",
        "3)Outcome evaluation\n",
        "\n",
        "4)Summative evaluation \n",
        "\n",
        "5)Impact evaluation\n",
        "\n",
        "6)Real-time evaluation\n",
        "\n",
        "7)Participatory evaluation\n",
        "\n",
        "8)Thematic evaluation\n",
        "\n",
        "9)Cluster evaluation\n",
        "\n",
        "10)Meta evaluation\n",
        "\n",
        " \n",
        "\n",
        "\n",
        "\n",
        "\n",
        "\n",
        "\n",
        "\n",
        "\n"
      ]
    }
  ]
}