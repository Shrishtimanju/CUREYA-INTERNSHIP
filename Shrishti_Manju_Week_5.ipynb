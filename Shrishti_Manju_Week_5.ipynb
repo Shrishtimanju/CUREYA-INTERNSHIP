{
  "nbformat": 4,
  "nbformat_minor": 0,
  "metadata": {
    "colab": {
      "name": "Shrishti Manju Week-5.ipynb",
      "provenance": [],
      "collapsed_sections": [],
      "authorship_tag": "ABX9TyNhuAW9JK2uE6uB8mtEv2la"
    },
    "kernelspec": {
      "name": "python3",
      "display_name": "Python 3"
    },
    "language_info": {
      "name": "python"
    }
  },
  "cells": [
    {
      "cell_type": "markdown",
      "metadata": {
        "id": "lJ1F0zDgktvl"
      },
      "source": [
        "## **Shrishti Manju** \n",
        "\n",
        "### **WEEK-5 Stock Price Prediction - Apple** "
      ]
    },
    {
      "cell_type": "code",
      "metadata": {
        "colab": {
          "base_uri": "https://localhost:8080/",
          "height": 756
        },
        "id": "S1KFS_08Mzsm",
        "outputId": "c74ba9ed-2d9d-4817-d81a-fecfe39ef227"
      },
      "source": [
        "!pip install --upgrade pandas\n",
        "!pip install --upgrade pandas-datareader"
      ],
      "execution_count": 1,
      "outputs": [
        {
          "output_type": "stream",
          "text": [
            "Requirement already satisfied: pandas in /usr/local/lib/python3.7/dist-packages (1.1.5)\n",
            "Collecting pandas\n",
            "  Downloading pandas-1.3.2-cp37-cp37m-manylinux_2_17_x86_64.manylinux2014_x86_64.whl (11.3 MB)\n",
            "\u001b[K     |████████████████████████████████| 11.3 MB 29 kB/s \n",
            "\u001b[?25hRequirement already satisfied: pytz>=2017.3 in /usr/local/lib/python3.7/dist-packages (from pandas) (2018.9)\n",
            "Requirement already satisfied: python-dateutil>=2.7.3 in /usr/local/lib/python3.7/dist-packages (from pandas) (2.8.2)\n",
            "Requirement already satisfied: numpy>=1.17.3 in /usr/local/lib/python3.7/dist-packages (from pandas) (1.19.5)\n",
            "Requirement already satisfied: six>=1.5 in /usr/local/lib/python3.7/dist-packages (from python-dateutil>=2.7.3->pandas) (1.15.0)\n",
            "Installing collected packages: pandas\n",
            "  Attempting uninstall: pandas\n",
            "    Found existing installation: pandas 1.1.5\n",
            "    Uninstalling pandas-1.1.5:\n",
            "      Successfully uninstalled pandas-1.1.5\n",
            "\u001b[31mERROR: pip's dependency resolver does not currently take into account all the packages that are installed. This behaviour is the source of the following dependency conflicts.\n",
            "google-colab 1.0.0 requires pandas~=1.1.0; python_version >= \"3.0\", but you have pandas 1.3.2 which is incompatible.\u001b[0m\n",
            "Successfully installed pandas-1.3.2\n"
          ],
          "name": "stdout"
        },
        {
          "output_type": "display_data",
          "data": {
            "application/vnd.colab-display-data+json": {
              "pip_warning": {
                "packages": [
                  "pandas"
                ]
              }
            }
          },
          "metadata": {}
        },
        {
          "output_type": "stream",
          "text": [
            "Requirement already satisfied: pandas-datareader in /usr/local/lib/python3.7/dist-packages (0.9.0)\n",
            "Collecting pandas-datareader\n",
            "  Downloading pandas_datareader-0.10.0-py3-none-any.whl (109 kB)\n",
            "\u001b[K     |████████████████████████████████| 109 kB 5.4 MB/s \n",
            "\u001b[?25hRequirement already satisfied: lxml in /usr/local/lib/python3.7/dist-packages (from pandas-datareader) (4.2.6)\n",
            "Requirement already satisfied: requests>=2.19.0 in /usr/local/lib/python3.7/dist-packages (from pandas-datareader) (2.23.0)\n",
            "Requirement already satisfied: pandas>=0.23 in /usr/local/lib/python3.7/dist-packages (from pandas-datareader) (1.3.2)\n",
            "Requirement already satisfied: numpy>=1.17.3 in /usr/local/lib/python3.7/dist-packages (from pandas>=0.23->pandas-datareader) (1.19.5)\n",
            "Requirement already satisfied: python-dateutil>=2.7.3 in /usr/local/lib/python3.7/dist-packages (from pandas>=0.23->pandas-datareader) (2.8.2)\n",
            "Requirement already satisfied: pytz>=2017.3 in /usr/local/lib/python3.7/dist-packages (from pandas>=0.23->pandas-datareader) (2018.9)\n",
            "Requirement already satisfied: six>=1.5 in /usr/local/lib/python3.7/dist-packages (from python-dateutil>=2.7.3->pandas>=0.23->pandas-datareader) (1.15.0)\n",
            "Requirement already satisfied: urllib3!=1.25.0,!=1.25.1,<1.26,>=1.21.1 in /usr/local/lib/python3.7/dist-packages (from requests>=2.19.0->pandas-datareader) (1.24.3)\n",
            "Requirement already satisfied: chardet<4,>=3.0.2 in /usr/local/lib/python3.7/dist-packages (from requests>=2.19.0->pandas-datareader) (3.0.4)\n",
            "Requirement already satisfied: idna<3,>=2.5 in /usr/local/lib/python3.7/dist-packages (from requests>=2.19.0->pandas-datareader) (2.10)\n",
            "Requirement already satisfied: certifi>=2017.4.17 in /usr/local/lib/python3.7/dist-packages (from requests>=2.19.0->pandas-datareader) (2021.5.30)\n",
            "Installing collected packages: pandas-datareader\n",
            "  Attempting uninstall: pandas-datareader\n",
            "    Found existing installation: pandas-datareader 0.9.0\n",
            "    Uninstalling pandas-datareader-0.9.0:\n",
            "      Successfully uninstalled pandas-datareader-0.9.0\n",
            "Successfully installed pandas-datareader-0.10.0\n"
          ],
          "name": "stdout"
        }
      ]
    },
    {
      "cell_type": "markdown",
      "metadata": {
        "id": "Y3MSh88JllF6"
      },
      "source": [
        "### **Importing Libraries**"
      ]
    },
    {
      "cell_type": "code",
      "metadata": {
        "id": "Va5hxkWtOA1-"
      },
      "source": [
        "import math\n",
        "import pandas_datareader as web\n",
        "import numpy as np\n",
        "import pandas as pd\n",
        "from sklearn.preprocessing import MinMaxScaler\n",
        "from sklearn.metrics import mean_squared_error\n",
        "from keras.models import Sequential\n",
        "from keras.layers import Dense, LSTM\n",
        "import seaborn as sns\n",
        "import matplotlib.pyplot as plt\n",
        "plt.style.use('fivethirtyeight')"
      ],
      "execution_count": 1,
      "outputs": []
    },
    {
      "cell_type": "code",
      "metadata": {
        "colab": {
          "base_uri": "https://localhost:8080/",
          "height": 447
        },
        "id": "QNcsycbsOKpq",
        "outputId": "1bae5f9b-3ab8-4577-a92f-cbba2cffda57"
      },
      "source": [
        "df = web.DataReader('AAPL', data_source='yahoo',  start='2012-01-01', end='2019-12-17')\n",
        "df"
      ],
      "execution_count": 2,
      "outputs": [
        {
          "output_type": "execute_result",
          "data": {
            "text/html": [
              "<div>\n",
              "<style scoped>\n",
              "    .dataframe tbody tr th:only-of-type {\n",
              "        vertical-align: middle;\n",
              "    }\n",
              "\n",
              "    .dataframe tbody tr th {\n",
              "        vertical-align: top;\n",
              "    }\n",
              "\n",
              "    .dataframe thead th {\n",
              "        text-align: right;\n",
              "    }\n",
              "</style>\n",
              "<table border=\"1\" class=\"dataframe\">\n",
              "  <thead>\n",
              "    <tr style=\"text-align: right;\">\n",
              "      <th></th>\n",
              "      <th>High</th>\n",
              "      <th>Low</th>\n",
              "      <th>Open</th>\n",
              "      <th>Close</th>\n",
              "      <th>Volume</th>\n",
              "      <th>Adj Close</th>\n",
              "    </tr>\n",
              "    <tr>\n",
              "      <th>Date</th>\n",
              "      <th></th>\n",
              "      <th></th>\n",
              "      <th></th>\n",
              "      <th></th>\n",
              "      <th></th>\n",
              "      <th></th>\n",
              "    </tr>\n",
              "  </thead>\n",
              "  <tbody>\n",
              "    <tr>\n",
              "      <th>2012-01-03</th>\n",
              "      <td>14.732143</td>\n",
              "      <td>14.607143</td>\n",
              "      <td>14.621429</td>\n",
              "      <td>14.686786</td>\n",
              "      <td>302220800.0</td>\n",
              "      <td>12.610315</td>\n",
              "    </tr>\n",
              "    <tr>\n",
              "      <th>2012-01-04</th>\n",
              "      <td>14.810000</td>\n",
              "      <td>14.617143</td>\n",
              "      <td>14.642857</td>\n",
              "      <td>14.765714</td>\n",
              "      <td>260022000.0</td>\n",
              "      <td>12.678085</td>\n",
              "    </tr>\n",
              "    <tr>\n",
              "      <th>2012-01-05</th>\n",
              "      <td>14.948214</td>\n",
              "      <td>14.738214</td>\n",
              "      <td>14.819643</td>\n",
              "      <td>14.929643</td>\n",
              "      <td>271269600.0</td>\n",
              "      <td>12.818838</td>\n",
              "    </tr>\n",
              "    <tr>\n",
              "      <th>2012-01-06</th>\n",
              "      <td>15.098214</td>\n",
              "      <td>14.972143</td>\n",
              "      <td>14.991786</td>\n",
              "      <td>15.085714</td>\n",
              "      <td>318292800.0</td>\n",
              "      <td>12.952841</td>\n",
              "    </tr>\n",
              "    <tr>\n",
              "      <th>2012-01-09</th>\n",
              "      <td>15.276786</td>\n",
              "      <td>15.048214</td>\n",
              "      <td>15.196429</td>\n",
              "      <td>15.061786</td>\n",
              "      <td>394024400.0</td>\n",
              "      <td>12.932299</td>\n",
              "    </tr>\n",
              "    <tr>\n",
              "      <th>...</th>\n",
              "      <td>...</td>\n",
              "      <td>...</td>\n",
              "      <td>...</td>\n",
              "      <td>...</td>\n",
              "      <td>...</td>\n",
              "      <td>...</td>\n",
              "    </tr>\n",
              "    <tr>\n",
              "      <th>2019-12-11</th>\n",
              "      <td>67.775002</td>\n",
              "      <td>67.125000</td>\n",
              "      <td>67.202499</td>\n",
              "      <td>67.692497</td>\n",
              "      <td>78756800.0</td>\n",
              "      <td>66.799057</td>\n",
              "    </tr>\n",
              "    <tr>\n",
              "      <th>2019-12-12</th>\n",
              "      <td>68.139999</td>\n",
              "      <td>66.830002</td>\n",
              "      <td>66.945000</td>\n",
              "      <td>67.864998</td>\n",
              "      <td>137310400.0</td>\n",
              "      <td>66.969292</td>\n",
              "    </tr>\n",
              "    <tr>\n",
              "      <th>2019-12-13</th>\n",
              "      <td>68.824997</td>\n",
              "      <td>67.732498</td>\n",
              "      <td>67.864998</td>\n",
              "      <td>68.787498</td>\n",
              "      <td>133587600.0</td>\n",
              "      <td>67.879601</td>\n",
              "    </tr>\n",
              "    <tr>\n",
              "      <th>2019-12-16</th>\n",
              "      <td>70.197502</td>\n",
              "      <td>69.245003</td>\n",
              "      <td>69.250000</td>\n",
              "      <td>69.964996</td>\n",
              "      <td>128186000.0</td>\n",
              "      <td>69.041557</td>\n",
              "    </tr>\n",
              "    <tr>\n",
              "      <th>2019-12-17</th>\n",
              "      <td>70.442497</td>\n",
              "      <td>69.699997</td>\n",
              "      <td>69.892502</td>\n",
              "      <td>70.102501</td>\n",
              "      <td>114158400.0</td>\n",
              "      <td>69.177261</td>\n",
              "    </tr>\n",
              "  </tbody>\n",
              "</table>\n",
              "<p>2003 rows × 6 columns</p>\n",
              "</div>"
            ],
            "text/plain": [
              "                 High        Low       Open      Close       Volume  Adj Close\n",
              "Date                                                                          \n",
              "2012-01-03  14.732143  14.607143  14.621429  14.686786  302220800.0  12.610315\n",
              "2012-01-04  14.810000  14.617143  14.642857  14.765714  260022000.0  12.678085\n",
              "2012-01-05  14.948214  14.738214  14.819643  14.929643  271269600.0  12.818838\n",
              "2012-01-06  15.098214  14.972143  14.991786  15.085714  318292800.0  12.952841\n",
              "2012-01-09  15.276786  15.048214  15.196429  15.061786  394024400.0  12.932299\n",
              "...               ...        ...        ...        ...          ...        ...\n",
              "2019-12-11  67.775002  67.125000  67.202499  67.692497   78756800.0  66.799057\n",
              "2019-12-12  68.139999  66.830002  66.945000  67.864998  137310400.0  66.969292\n",
              "2019-12-13  68.824997  67.732498  67.864998  68.787498  133587600.0  67.879601\n",
              "2019-12-16  70.197502  69.245003  69.250000  69.964996  128186000.0  69.041557\n",
              "2019-12-17  70.442497  69.699997  69.892502  70.102501  114158400.0  69.177261\n",
              "\n",
              "[2003 rows x 6 columns]"
            ]
          },
          "metadata": {},
          "execution_count": 2
        }
      ]
    },
    {
      "cell_type": "code",
      "metadata": {
        "colab": {
          "base_uri": "https://localhost:8080/"
        },
        "id": "w9Jqny5COORj",
        "outputId": "b5d1d770-7d24-4f46-97c6-2c41b1002802"
      },
      "source": [
        "df.shape"
      ],
      "execution_count": 3,
      "outputs": [
        {
          "output_type": "execute_result",
          "data": {
            "text/plain": [
              "(2003, 6)"
            ]
          },
          "metadata": {},
          "execution_count": 3
        }
      ]
    },
    {
      "cell_type": "markdown",
      "metadata": {
        "id": "eyA_B7kHmRxo"
      },
      "source": [
        "### **Visualise some of the attributes of the dataset.**"
      ]
    },
    {
      "cell_type": "code",
      "metadata": {
        "colab": {
          "base_uri": "https://localhost:8080/",
          "height": 624
        },
        "id": "fZKszgfEOo8G",
        "outputId": "1a69b8a9-de38-4d52-97fc-1d03ecb66953"
      },
      "source": [
        "plt.figure(figsize=(10,10))\n",
        "plt.title('Close Price History')\n",
        "plt.plot(df['Close'])\n",
        "plt.xlabel('Date',fontsize=15)\n",
        "plt.ylabel('Close Price USD($)',fontsize=15)\n",
        "plt.show()"
      ],
      "execution_count": 11,
      "outputs": [
        {
          "output_type": "display_data",
          "data": {
            "image/png": "[encoded data removed]",
            "text/plain": [
              "<Figure size 720x720 with 1 Axes>"
            ]
          },
          "metadata": {
            "needs_background": "light"
          }
        }
      ]
    },
    {
      "cell_type": "markdown",
      "metadata": {
        "id": "E5NCIndampf7"
      },
      "source": [
        "### **Observations:**\n",
        "It can be observed that the plotted graph is highly non-linear and it is very difficult to understand the trend using this information. So that is why we will make use of LSTM. Long short-term memory (LSTM) is an artificial recurrent neural network (RNN) architecture. It can process not only single data points (such as images), but also entire sequences of data (such as speech or video). For example, LSTM is applicable to tasks such as unsegmented, connected handwriting recognition,speech recognition."
      ]
    },
    {
      "cell_type": "markdown",
      "metadata": {
        "id": "EhO63Of6oPML"
      },
      "source": [
        "### **Split your whole dataset between training and testing dataset.**"
      ]
    },
    {
      "cell_type": "code",
      "metadata": {
        "colab": {
          "base_uri": "https://localhost:8080/"
        },
        "id": "F5TN13FwO1aJ",
        "outputId": "336a1cac-bab8-4964-d3e0-cc42f8d6a2e8"
      },
      "source": [
        "data=df.filter(['Close'])\n",
        "dataset=data.values\n",
        "training_data_len= math.ceil(len(dataset) * .8)\n",
        "training_data_len"
      ],
      "execution_count": 13,
      "outputs": [
        {
          "output_type": "execute_result",
          "data": {
            "text/plain": [
              "1603"
            ]
          },
          "metadata": {},
          "execution_count": 13
        }
      ]
    },
    {
      "cell_type": "code",
      "metadata": {
        "colab": {
          "base_uri": "https://localhost:8080/"
        },
        "id": "lJxWAjJZSid2",
        "outputId": "468d6535-46e5-4243-b25b-a043162fe326"
      },
      "source": [
        "scaler=MinMaxScaler(feature_range=(0,1))\n",
        "scaled_data=scaler.fit_transform(dataset)\n",
        "scaled_data"
      ],
      "execution_count": 14,
      "outputs": [
        {
          "output_type": "execute_result",
          "data": {
            "text/plain": [
              "array([[0.01316509],\n",
              "       [0.01457063],\n",
              "       [0.01748985],\n",
              "       ...,\n",
              "       [0.97658263],\n",
              "       [0.99755134],\n",
              "       [1.        ]])"
            ]
          },
          "metadata": {},
          "execution_count": 14
        }
      ]
    },
    {
      "cell_type": "code",
      "metadata": {
        "colab": {
          "base_uri": "https://localhost:8080/"
        },
        "id": "AomDlJmITqlv",
        "outputId": "02427a2f-07d3-4993-c2c1-c037200f3656"
      },
      "source": [
        "training_data = scaled_data[0:training_data_len, :]\n",
        "print(len(training_data))\n",
        "x_training, y_training = [], []\n",
        "\n",
        "for i in range(100, len(training_data)):\n",
        "  x_training.append(training_data[i-100:i, 0])\n",
        "  y_training.append(training_data[i,0])\n",
        "  if i<=101:\n",
        "    print(x_training)\n",
        "    print(y_training)"
      ],
      "execution_count": 25,
      "outputs": [
        {
          "output_type": "stream",
          "text": [
            "1603\n",
            "[array([0.01316509, 0.01457063, 0.01748985, 0.02026915, 0.01984303,\n",
            "       0.02080338, 0.02036454, 0.01962679, 0.01862191, 0.02173194,\n",
            "       0.02453668, 0.02367172, 0.01893355, 0.02345548, 0.01900352,\n",
            "       0.03569838, 0.03440732, 0.0360927 , 0.03973694, 0.04194384,\n",
            "       0.0417594 , 0.0410789 , 0.04397903, 0.04670744, 0.04979839,\n",
            "       0.05479095, 0.0652785 , 0.06543749, 0.07127594, 0.07563885,\n",
            "       0.06814049, 0.07102789, 0.07097066, 0.07906688, 0.07791571,\n",
            "       0.08004628, 0.08387497, 0.08600558, 0.09214292, 0.09661394,\n",
            "       0.09790501, 0.09835659, 0.09071194, 0.08886753, 0.08914103,\n",
            "       0.09632778, 0.09835024, 0.10269409, 0.11293358, 0.12659476,\n",
            "       0.12403805, 0.1240444 , 0.13392141, 0.13701237, 0.13481179,\n",
            "       0.13280207, 0.13070964, 0.13766105, 0.14243103, 0.14442805,\n",
            "       0.13949272, 0.13293563, 0.14507041, 0.15186917, 0.14868284,\n",
            "       0.15464214, 0.1562639 , 0.15130952, 0.14988489, 0.14770341,\n",
            "       0.13654806, 0.12058461, 0.13939096, 0.13852602, 0.12523371,\n",
            "       0.11603724, 0.11522315, 0.10796011, 0.13958174, 0.13811897,\n",
            "       0.13512978, 0.12303317, 0.1218566 , 0.12430516, 0.12165943,\n",
            "       0.111121  , 0.11381126, 0.11298446, 0.11362044, 0.11447267,\n",
            "       0.11204956, 0.10664995, 0.10343818, 0.09892898, 0.08877851,\n",
            "       0.08894386, 0.10859608, 0.10585498, 0.11449815, 0.11116553])]\n",
            "[0.10923844534122418]\n",
            "[array([0.01316509, 0.01457063, 0.01748985, 0.02026915, 0.01984303,\n",
            "       0.02080338, 0.02036454, 0.01962679, 0.01862191, 0.02173194,\n",
            "       0.02453668, 0.02367172, 0.01893355, 0.02345548, 0.01900352,\n",
            "       0.03569838, 0.03440732, 0.0360927 , 0.03973694, 0.04194384,\n",
            "       0.0417594 , 0.0410789 , 0.04397903, 0.04670744, 0.04979839,\n",
            "       0.05479095, 0.0652785 , 0.06543749, 0.07127594, 0.07563885,\n",
            "       0.06814049, 0.07102789, 0.07097066, 0.07906688, 0.07791571,\n",
            "       0.08004628, 0.08387497, 0.08600558, 0.09214292, 0.09661394,\n",
            "       0.09790501, 0.09835659, 0.09071194, 0.08886753, 0.08914103,\n",
            "       0.09632778, 0.09835024, 0.10269409, 0.11293358, 0.12659476,\n",
            "       0.12403805, 0.1240444 , 0.13392141, 0.13701237, 0.13481179,\n",
            "       0.13280207, 0.13070964, 0.13766105, 0.14243103, 0.14442805,\n",
            "       0.13949272, 0.13293563, 0.14507041, 0.15186917, 0.14868284,\n",
            "       0.15464214, 0.1562639 , 0.15130952, 0.14988489, 0.14770341,\n",
            "       0.13654806, 0.12058461, 0.13939096, 0.13852602, 0.12523371,\n",
            "       0.11603724, 0.11522315, 0.10796011, 0.13958174, 0.13811897,\n",
            "       0.13512978, 0.12303317, 0.1218566 , 0.12430516, 0.12165943,\n",
            "       0.111121  , 0.11381126, 0.11298446, 0.11362044, 0.11447267,\n",
            "       0.11204956, 0.10664995, 0.10343818, 0.09892898, 0.08877851,\n",
            "       0.08894386, 0.10859608, 0.10585498, 0.11449815, 0.11116553]), array([0.01457063, 0.01748985, 0.02026915, 0.01984303, 0.02080338,\n",
            "       0.02036454, 0.01962679, 0.01862191, 0.02173194, 0.02453668,\n",
            "       0.02367172, 0.01893355, 0.02345548, 0.01900352, 0.03569838,\n",
            "       0.03440732, 0.0360927 , 0.03973694, 0.04194384, 0.0417594 ,\n",
            "       0.0410789 , 0.04397903, 0.04670744, 0.04979839, 0.05479095,\n",
            "       0.0652785 , 0.06543749, 0.07127594, 0.07563885, 0.06814049,\n",
            "       0.07102789, 0.07097066, 0.07906688, 0.07791571, 0.08004628,\n",
            "       0.08387497, 0.08600558, 0.09214292, 0.09661394, 0.09790501,\n",
            "       0.09835659, 0.09071194, 0.08886753, 0.08914103, 0.09632778,\n",
            "       0.09835024, 0.10269409, 0.11293358, 0.12659476, 0.12403805,\n",
            "       0.1240444 , 0.13392141, 0.13701237, 0.13481179, 0.13280207,\n",
            "       0.13070964, 0.13766105, 0.14243103, 0.14442805, 0.13949272,\n",
            "       0.13293563, 0.14507041, 0.15186917, 0.14868284, 0.15464214,\n",
            "       0.1562639 , 0.15130952, 0.14988489, 0.14770341, 0.13654806,\n",
            "       0.12058461, 0.13939096, 0.13852602, 0.12523371, 0.11603724,\n",
            "       0.11522315, 0.10796011, 0.13958174, 0.13811897, 0.13512978,\n",
            "       0.12303317, 0.1218566 , 0.12430516, 0.12165943, 0.111121  ,\n",
            "       0.11381126, 0.11298446, 0.11362044, 0.11447267, 0.11204956,\n",
            "       0.10664995, 0.10343818, 0.09892898, 0.08877851, 0.08894386,\n",
            "       0.10859608, 0.10585498, 0.11449815, 0.11116553, 0.10923845])]\n",
            "[0.10923844534122418, 0.11558566539293841]\n"
          ],
          "name": "stdout"
        }
      ]
    },
    {
      "cell_type": "code",
      "metadata": {
        "colab": {
          "base_uri": "https://localhost:8080/"
        },
        "id": "-1p-rY3cT2F1",
        "outputId": "c87a56c5-fe5d-450c-c303-ab38ab8e697c"
      },
      "source": [
        "test_data = scaled_data[training_data_len: , :]\n",
        "print(len(test_data))\n",
        "x_test, y_test = [], []\n",
        "\n",
        "for i in range(100, len(test_data)):\n",
        "  x_test.append(test_data[i-100:i, 0])\n",
        "  y_test.append(training_data[i,0])\n",
        "  if i<=101:\n",
        "    print(x_test)\n",
        "    print(y_test)"
      ],
      "execution_count": 26,
      "outputs": [
        {
          "output_type": "stream",
          "text": [
            "400\n",
            "[array([0.5840976 , 0.58107023, 0.58694685, 0.58485443, 0.59019677,\n",
            "       0.58926183, 0.59117621, 0.58814884, 0.58636808, 0.58356332,\n",
            "       0.59856648, 0.60564509, 0.61223397, 0.61521678, 0.61290181,\n",
            "       0.60506631, 0.60297388, 0.60764846, 0.60061435, 0.60105957,\n",
            "       0.59233369, 0.59188854, 0.57831003, 0.58191611, 0.5772861 ,\n",
            "       0.574882  , 0.5626391 , 0.57270052, 0.57149854, 0.57746415,\n",
            "       0.57572789, 0.58494342, 0.57043004, 0.57701893, 0.58846051,\n",
            "       0.60008013, 0.5990562 , 0.58805984, 0.6020835 , 0.6034191 ,\n",
            "       0.60154929, 0.60395332, 0.59927874, 0.6058677 , 0.60390882,\n",
            "       0.60466565, 0.61085388, 0.61895648, 0.61624078, 0.60186089,\n",
            "       0.59709732, 0.59878902, 0.64869556, 0.67491762, 0.67758883,\n",
            "       0.68239696, 0.67367108, 0.67429435, 0.68155107, 0.6755409 ,\n",
            "       0.68150651, 0.68542426, 0.68760575, 0.7013178 , 0.72028314,\n",
            "       0.710845  , 0.70897512, 0.70901968, 0.71097855, 0.71396136,\n",
            "       0.72188585, 0.72972128, 0.74432371, 0.75345025, 0.76502538,\n",
            "       0.7682753 , 0.76164185, 0.744858  , 0.73684445, 0.72362211,\n",
            "       0.74819697, 0.73582052, 0.75959398, 0.74815241, 0.72161874,\n",
            "       0.72322145, 0.72380016, 0.73119044, 0.72063931, 0.7345739 ,\n",
            "       0.74080669, 0.7329267 , 0.75309409, 0.75661118, 0.76337811,\n",
            "       0.7723711 , 0.78479211, 0.76662809, 0.75015578, 0.7478408 ])]\n",
            "[0.10923844534122418]\n",
            "[array([0.5840976 , 0.58107023, 0.58694685, 0.58485443, 0.59019677,\n",
            "       0.58926183, 0.59117621, 0.58814884, 0.58636808, 0.58356332,\n",
            "       0.59856648, 0.60564509, 0.61223397, 0.61521678, 0.61290181,\n",
            "       0.60506631, 0.60297388, 0.60764846, 0.60061435, 0.60105957,\n",
            "       0.59233369, 0.59188854, 0.57831003, 0.58191611, 0.5772861 ,\n",
            "       0.574882  , 0.5626391 , 0.57270052, 0.57149854, 0.57746415,\n",
            "       0.57572789, 0.58494342, 0.57043004, 0.57701893, 0.58846051,\n",
            "       0.60008013, 0.5990562 , 0.58805984, 0.6020835 , 0.6034191 ,\n",
            "       0.60154929, 0.60395332, 0.59927874, 0.6058677 , 0.60390882,\n",
            "       0.60466565, 0.61085388, 0.61895648, 0.61624078, 0.60186089,\n",
            "       0.59709732, 0.59878902, 0.64869556, 0.67491762, 0.67758883,\n",
            "       0.68239696, 0.67367108, 0.67429435, 0.68155107, 0.6755409 ,\n",
            "       0.68150651, 0.68542426, 0.68760575, 0.7013178 , 0.72028314,\n",
            "       0.710845  , 0.70897512, 0.70901968, 0.71097855, 0.71396136,\n",
            "       0.72188585, 0.72972128, 0.74432371, 0.75345025, 0.76502538,\n",
            "       0.7682753 , 0.76164185, 0.744858  , 0.73684445, 0.72362211,\n",
            "       0.74819697, 0.73582052, 0.75959398, 0.74815241, 0.72161874,\n",
            "       0.72322145, 0.72380016, 0.73119044, 0.72063931, 0.7345739 ,\n",
            "       0.74080669, 0.7329267 , 0.75309409, 0.75661118, 0.76337811,\n",
            "       0.7723711 , 0.78479211, 0.76662809, 0.75015578, 0.7478408 ]), array([0.58107023, 0.58694685, 0.58485443, 0.59019677, 0.58926183,\n",
            "       0.59117621, 0.58814884, 0.58636808, 0.58356332, 0.59856648,\n",
            "       0.60564509, 0.61223397, 0.61521678, 0.61290181, 0.60506631,\n",
            "       0.60297388, 0.60764846, 0.60061435, 0.60105957, 0.59233369,\n",
            "       0.59188854, 0.57831003, 0.58191611, 0.5772861 , 0.574882  ,\n",
            "       0.5626391 , 0.57270052, 0.57149854, 0.57746415, 0.57572789,\n",
            "       0.58494342, 0.57043004, 0.57701893, 0.58846051, 0.60008013,\n",
            "       0.5990562 , 0.58805984, 0.6020835 , 0.6034191 , 0.60154929,\n",
            "       0.60395332, 0.59927874, 0.6058677 , 0.60390882, 0.60466565,\n",
            "       0.61085388, 0.61895648, 0.61624078, 0.60186089, 0.59709732,\n",
            "       0.59878902, 0.64869556, 0.67491762, 0.67758883, 0.68239696,\n",
            "       0.67367108, 0.67429435, 0.68155107, 0.6755409 , 0.68150651,\n",
            "       0.68542426, 0.68760575, 0.7013178 , 0.72028314, 0.710845  ,\n",
            "       0.70897512, 0.70901968, 0.71097855, 0.71396136, 0.72188585,\n",
            "       0.72972128, 0.74432371, 0.75345025, 0.76502538, 0.7682753 ,\n",
            "       0.76164185, 0.744858  , 0.73684445, 0.72362211, 0.74819697,\n",
            "       0.73582052, 0.75959398, 0.74815241, 0.72161874, 0.72322145,\n",
            "       0.72380016, 0.73119044, 0.72063931, 0.7345739 , 0.74080669,\n",
            "       0.7329267 , 0.75309409, 0.75661118, 0.76337811, 0.7723711 ,\n",
            "       0.78479211, 0.76662809, 0.75015578, 0.7478408 , 0.76164185])]\n",
            "[0.10923844534122418, 0.11558566539293841]\n"
          ],
          "name": "stdout"
        }
      ]
    },
    {
      "cell_type": "code",
      "metadata": {
        "colab": {
          "base_uri": "https://localhost:8080/"
        },
        "id": "8ORZ5QZeafj9",
        "outputId": "3cb7ea3f-be7a-4f03-b9bc-4b513112802b"
      },
      "source": [
        "x_train, y_train = np.array(x_train), np.array(y_train)\n",
        "x_train = np.reshape(x_train, (x_train.shape[0],x_train.shape[1], 1))\n",
        "print(x_train.shape, y_train.shape)"
      ],
      "execution_count": 27,
      "outputs": [
        {
          "output_type": "stream",
          "text": [
            "(1503, 100, 1) (1503,)\n"
          ],
          "name": "stdout"
        }
      ]
    },
    {
      "cell_type": "code",
      "metadata": {
        "colab": {
          "base_uri": "https://localhost:8080/"
        },
        "id": "kANJFeGLawpq",
        "outputId": "04afb6b5-b1e3-4eae-dfc7-73316c57f3b5"
      },
      "source": [
        "x_test, y_test = np.array(x_test), np.array(y_test)\n",
        "x_test = np.reshape(x_test, (x_test.shape[0], x_test.shape[1], 1))\n",
        "print(x_test.shape, y_test.shape)"
      ],
      "execution_count": 28,
      "outputs": [
        {
          "output_type": "stream",
          "text": [
            "(300, 100, 1) (300,)\n"
          ],
          "name": "stdout"
        }
      ]
    },
    {
      "cell_type": "markdown",
      "metadata": {
        "id": "GH_vLs-RpJYW"
      },
      "source": [
        "### **Predict the stock prices using the following algorithms:**\n",
        "\n",
        "### **1) RNN** "
      ]
    },
    {
      "cell_type": "code",
      "metadata": {
        "id": "5hgs1yAsa8S0"
      },
      "source": [
        "model = Sequential()\n",
        "model.add(LSTM(50, return_sequences=True, input_shape = (x_train.shape[1], 1)))\n",
        "model.add(LSTM(50, return_sequences=True))\n",
        "model.add(LSTM(50))\n",
        "model.add(Dense(1))"
      ],
      "execution_count": 29,
      "outputs": []
    },
    {
      "cell_type": "code",
      "metadata": {
        "colab": {
          "base_uri": "https://localhost:8080/"
        },
        "id": "IsU8hLCEbvzJ",
        "outputId": "86740a67-b55b-4e32-f896-9ca6ac0cb5e1"
      },
      "source": [
        "model.compile(optimizer='adam', loss='mean_squared_error')\n",
        "model.summary()"
      ],
      "execution_count": 37,
      "outputs": [
        {
          "output_type": "stream",
          "text": [
            "Model: \"sequential_1\"\n",
            "_________________________________________________________________\n",
            "Layer (type)                 Output Shape              Param #   \n",
            "=================================================================\n",
            "lstm_3 (LSTM)                (None, 100, 50)           10400     \n",
            "_________________________________________________________________\n",
            "lstm_4 (LSTM)                (None, 100, 50)           20200     \n",
            "_________________________________________________________________\n",
            "lstm_5 (LSTM)                (None, 50)                20200     \n",
            "_________________________________________________________________\n",
            "dense_1 (Dense)              (None, 1)                 51        \n",
            "=================================================================\n",
            "Total params: 50,851\n",
            "Trainable params: 50,851\n",
            "Non-trainable params: 0\n",
            "_________________________________________________________________\n"
          ],
          "name": "stdout"
        }
      ]
    },
    {
      "cell_type": "markdown",
      "metadata": {
        "id": "P42URzOmpb-n"
      },
      "source": [
        "### **Training the LSTM Model**"
      ]
    },
    {
      "cell_type": "code",
      "metadata": {
        "colab": {
          "base_uri": "https://localhost:8080/"
        },
        "id": "-Y1De7DAcIp5",
        "outputId": "afa2c225-04be-4da7-bb2e-de3545d70dda"
      },
      "source": [
        "lstm_model = model.fit(x_train, y_train, validation_data=(x_test, y_test), batch_size = 64, epochs=100, verbose=1)"
      ],
      "execution_count": 38,
      "outputs": [
        {
          "output_type": "stream",
          "text": [
            "Epoch 1/100\n",
            "24/24 [==============================] - 11s 232ms/step - loss: 0.0134 - val_loss: 0.3450\n",
            "Epoch 2/100\n",
            "24/24 [==============================] - 4s 182ms/step - loss: 9.3174e-04 - val_loss: 0.3577\n",
            "Epoch 3/100\n",
            "24/24 [==============================] - 4s 187ms/step - loss: 4.9025e-04 - val_loss: 0.3431\n",
            "Epoch 4/100\n",
            "24/24 [==============================] - 4s 183ms/step - loss: 4.8238e-04 - val_loss: 0.3586\n",
            "Epoch 5/100\n",
            "24/24 [==============================] - 4s 182ms/step - loss: 4.6499e-04 - val_loss: 0.3424\n",
            "Epoch 6/100\n",
            "24/24 [==============================] - 4s 186ms/step - loss: 4.5802e-04 - val_loss: 0.3454\n",
            "Epoch 7/100\n",
            "24/24 [==============================] - 4s 183ms/step - loss: 4.5142e-04 - val_loss: 0.3268\n",
            "Epoch 8/100\n",
            "24/24 [==============================] - 4s 183ms/step - loss: 4.3252e-04 - val_loss: 0.3467\n",
            "Epoch 9/100\n",
            "24/24 [==============================] - 4s 185ms/step - loss: 4.3996e-04 - val_loss: 0.3341\n",
            "Epoch 10/100\n",
            "24/24 [==============================] - 4s 182ms/step - loss: 4.0638e-04 - val_loss: 0.3337\n",
            "Epoch 11/100\n",
            "24/24 [==============================] - 4s 181ms/step - loss: 4.0508e-04 - val_loss: 0.3618\n",
            "Epoch 12/100\n",
            "24/24 [==============================] - 4s 182ms/step - loss: 4.0274e-04 - val_loss: 0.3141\n",
            "Epoch 13/100\n",
            "24/24 [==============================] - 4s 183ms/step - loss: 3.9034e-04 - val_loss: 0.3202\n",
            "Epoch 14/100\n",
            "24/24 [==============================] - 4s 182ms/step - loss: 4.0239e-04 - val_loss: 0.3203\n",
            "Epoch 15/100\n",
            "24/24 [==============================] - 4s 185ms/step - loss: 3.8392e-04 - val_loss: 0.3349\n",
            "Epoch 16/100\n",
            "24/24 [==============================] - 4s 182ms/step - loss: 3.6678e-04 - val_loss: 0.3264\n",
            "Epoch 17/100\n",
            "24/24 [==============================] - 4s 181ms/step - loss: 3.5247e-04 - val_loss: 0.3261\n",
            "Epoch 18/100\n",
            "24/24 [==============================] - 4s 184ms/step - loss: 3.2689e-04 - val_loss: 0.3514\n",
            "Epoch 19/100\n",
            "24/24 [==============================] - 4s 181ms/step - loss: 3.6571e-04 - val_loss: 0.3469\n",
            "Epoch 20/100\n",
            "24/24 [==============================] - 4s 181ms/step - loss: 3.2680e-04 - val_loss: 0.3801\n",
            "Epoch 21/100\n",
            "24/24 [==============================] - 4s 181ms/step - loss: 3.2638e-04 - val_loss: 0.3551\n",
            "Epoch 22/100\n",
            "24/24 [==============================] - 4s 182ms/step - loss: 3.1777e-04 - val_loss: 0.3583\n",
            "Epoch 23/100\n",
            "24/24 [==============================] - 4s 182ms/step - loss: 2.8126e-04 - val_loss: 0.3343\n",
            "Epoch 24/100\n",
            "24/24 [==============================] - 4s 184ms/step - loss: 2.7153e-04 - val_loss: 0.3499\n",
            "Epoch 25/100\n",
            "24/24 [==============================] - 4s 183ms/step - loss: 2.8107e-04 - val_loss: 0.3247\n",
            "Epoch 26/100\n",
            "24/24 [==============================] - 4s 181ms/step - loss: 2.6567e-04 - val_loss: 0.3292\n",
            "Epoch 27/100\n",
            "24/24 [==============================] - 4s 183ms/step - loss: 2.5993e-04 - val_loss: 0.3290\n",
            "Epoch 28/100\n",
            "24/24 [==============================] - 4s 182ms/step - loss: 2.7457e-04 - val_loss: 0.3494\n",
            "Epoch 29/100\n",
            "24/24 [==============================] - 4s 183ms/step - loss: 2.4597e-04 - val_loss: 0.3363\n",
            "Epoch 30/100\n",
            "24/24 [==============================] - 4s 185ms/step - loss: 2.3700e-04 - val_loss: 0.3399\n",
            "Epoch 31/100\n",
            "24/24 [==============================] - 4s 181ms/step - loss: 2.5714e-04 - val_loss: 0.3600\n",
            "Epoch 32/100\n",
            "24/24 [==============================] - 4s 182ms/step - loss: 2.2801e-04 - val_loss: 0.3559\n",
            "Epoch 33/100\n",
            "24/24 [==============================] - 4s 183ms/step - loss: 2.5418e-04 - val_loss: 0.3540\n",
            "Epoch 34/100\n",
            "24/24 [==============================] - 4s 182ms/step - loss: 2.3794e-04 - val_loss: 0.3487\n",
            "Epoch 35/100\n",
            "24/24 [==============================] - 4s 187ms/step - loss: 2.2268e-04 - val_loss: 0.3296\n",
            "Epoch 36/100\n",
            "24/24 [==============================] - 4s 186ms/step - loss: 2.6757e-04 - val_loss: 0.3460\n",
            "Epoch 37/100\n",
            "24/24 [==============================] - 4s 184ms/step - loss: 2.0499e-04 - val_loss: 0.3376\n",
            "Epoch 38/100\n",
            "24/24 [==============================] - 4s 182ms/step - loss: 2.0309e-04 - val_loss: 0.3283\n",
            "Epoch 39/100\n",
            "24/24 [==============================] - 4s 183ms/step - loss: 1.9162e-04 - val_loss: 0.3364\n",
            "Epoch 40/100\n",
            "24/24 [==============================] - 4s 181ms/step - loss: 1.8977e-04 - val_loss: 0.3249\n",
            "Epoch 41/100\n",
            "24/24 [==============================] - 4s 184ms/step - loss: 1.9537e-04 - val_loss: 0.3528\n",
            "Epoch 42/100\n",
            "24/24 [==============================] - 4s 184ms/step - loss: 1.8552e-04 - val_loss: 0.3264\n",
            "Epoch 43/100\n",
            "24/24 [==============================] - 4s 182ms/step - loss: 1.7788e-04 - val_loss: 0.3351\n",
            "Epoch 44/100\n",
            "24/24 [==============================] - 4s 186ms/step - loss: 1.6725e-04 - val_loss: 0.3467\n",
            "Epoch 45/100\n",
            "24/24 [==============================] - 4s 181ms/step - loss: 1.6934e-04 - val_loss: 0.3443\n",
            "Epoch 46/100\n",
            "24/24 [==============================] - 4s 182ms/step - loss: 1.5630e-04 - val_loss: 0.3431\n",
            "Epoch 47/100\n",
            "24/24 [==============================] - 4s 184ms/step - loss: 1.5387e-04 - val_loss: 0.3616\n",
            "Epoch 48/100\n",
            "24/24 [==============================] - 4s 183ms/step - loss: 1.6557e-04 - val_loss: 0.3498\n",
            "Epoch 49/100\n",
            "24/24 [==============================] - 4s 183ms/step - loss: 1.5945e-04 - val_loss: 0.3479\n",
            "Epoch 50/100\n",
            "24/24 [==============================] - 4s 185ms/step - loss: 1.5391e-04 - val_loss: 0.3453\n",
            "Epoch 51/100\n",
            "24/24 [==============================] - 4s 185ms/step - loss: 1.4061e-04 - val_loss: 0.3361\n",
            "Epoch 52/100\n",
            "24/24 [==============================] - 4s 183ms/step - loss: 1.4953e-04 - val_loss: 0.3192\n",
            "Epoch 53/100\n",
            "24/24 [==============================] - 4s 184ms/step - loss: 1.6558e-04 - val_loss: 0.3494\n",
            "Epoch 54/100\n",
            "24/24 [==============================] - 4s 184ms/step - loss: 1.4538e-04 - val_loss: 0.3524\n",
            "Epoch 55/100\n",
            "24/24 [==============================] - 4s 181ms/step - loss: 1.4566e-04 - val_loss: 0.3368\n",
            "Epoch 56/100\n",
            "24/24 [==============================] - 4s 187ms/step - loss: 1.3187e-04 - val_loss: 0.3463\n",
            "Epoch 57/100\n",
            "24/24 [==============================] - 4s 186ms/step - loss: 1.4210e-04 - val_loss: 0.3529\n",
            "Epoch 58/100\n",
            "24/24 [==============================] - 4s 184ms/step - loss: 1.3182e-04 - val_loss: 0.3577\n",
            "Epoch 59/100\n",
            "24/24 [==============================] - 4s 185ms/step - loss: 1.2288e-04 - val_loss: 0.3452\n",
            "Epoch 60/100\n",
            "24/24 [==============================] - 4s 181ms/step - loss: 1.1919e-04 - val_loss: 0.3607\n",
            "Epoch 61/100\n",
            "24/24 [==============================] - 4s 182ms/step - loss: 1.5492e-04 - val_loss: 0.3811\n",
            "Epoch 62/100\n",
            "24/24 [==============================] - 4s 184ms/step - loss: 1.3662e-04 - val_loss: 0.3457\n",
            "Epoch 63/100\n",
            "24/24 [==============================] - 4s 181ms/step - loss: 1.2801e-04 - val_loss: 0.3464\n",
            "Epoch 64/100\n",
            "24/24 [==============================] - 4s 181ms/step - loss: 1.2387e-04 - val_loss: 0.3558\n",
            "Epoch 65/100\n",
            "24/24 [==============================] - 4s 183ms/step - loss: 1.1336e-04 - val_loss: 0.3460\n",
            "Epoch 66/100\n",
            "24/24 [==============================] - 4s 183ms/step - loss: 1.3269e-04 - val_loss: 0.3420\n",
            "Epoch 67/100\n",
            "24/24 [==============================] - 4s 182ms/step - loss: 1.4707e-04 - val_loss: 0.3403\n",
            "Epoch 68/100\n",
            "24/24 [==============================] - 4s 185ms/step - loss: 1.8145e-04 - val_loss: 0.3739\n",
            "Epoch 69/100\n",
            "24/24 [==============================] - 4s 184ms/step - loss: 1.3916e-04 - val_loss: 0.3374\n",
            "Epoch 70/100\n",
            "24/24 [==============================] - 4s 184ms/step - loss: 1.1251e-04 - val_loss: 0.3377\n",
            "Epoch 71/100\n",
            "24/24 [==============================] - 4s 188ms/step - loss: 1.1141e-04 - val_loss: 0.3319\n",
            "Epoch 72/100\n",
            "24/24 [==============================] - 4s 185ms/step - loss: 1.1108e-04 - val_loss: 0.3514\n",
            "Epoch 73/100\n",
            "24/24 [==============================] - 4s 185ms/step - loss: 1.0154e-04 - val_loss: 0.3411\n",
            "Epoch 74/100\n",
            "24/24 [==============================] - 5s 189ms/step - loss: 1.0703e-04 - val_loss: 0.3353\n",
            "Epoch 75/100\n",
            "24/24 [==============================] - 4s 184ms/step - loss: 1.0664e-04 - val_loss: 0.3506\n",
            "Epoch 76/100\n",
            "24/24 [==============================] - 4s 186ms/step - loss: 1.0305e-04 - val_loss: 0.3393\n",
            "Epoch 77/100\n",
            "24/24 [==============================] - 4s 186ms/step - loss: 1.0185e-04 - val_loss: 0.3377\n",
            "Epoch 78/100\n",
            "24/24 [==============================] - 4s 185ms/step - loss: 1.0023e-04 - val_loss: 0.3308\n",
            "Epoch 79/100\n",
            "24/24 [==============================] - 4s 182ms/step - loss: 1.0014e-04 - val_loss: 0.3454\n",
            "Epoch 80/100\n",
            "24/24 [==============================] - 4s 184ms/step - loss: 1.0003e-04 - val_loss: 0.3751\n",
            "Epoch 81/100\n",
            "24/24 [==============================] - 5s 190ms/step - loss: 1.1445e-04 - val_loss: 0.3614\n",
            "Epoch 82/100\n",
            "24/24 [==============================] - 4s 184ms/step - loss: 1.1594e-04 - val_loss: 0.3668\n",
            "Epoch 83/100\n",
            "24/24 [==============================] - 5s 190ms/step - loss: 1.0987e-04 - val_loss: 0.3477\n",
            "Epoch 84/100\n",
            "24/24 [==============================] - 4s 183ms/step - loss: 9.6293e-05 - val_loss: 0.3513\n",
            "Epoch 85/100\n",
            "24/24 [==============================] - 4s 182ms/step - loss: 1.1807e-04 - val_loss: 0.3605\n",
            "Epoch 86/100\n",
            "24/24 [==============================] - 4s 185ms/step - loss: 1.0643e-04 - val_loss: 0.3704\n",
            "Epoch 87/100\n",
            "24/24 [==============================] - 4s 183ms/step - loss: 9.9640e-05 - val_loss: 0.3469\n",
            "Epoch 88/100\n",
            "24/24 [==============================] - 4s 183ms/step - loss: 1.1443e-04 - val_loss: 0.3227\n",
            "Epoch 89/100\n",
            "24/24 [==============================] - 4s 186ms/step - loss: 1.2108e-04 - val_loss: 0.3387\n",
            "Epoch 90/100\n",
            "24/24 [==============================] - 4s 183ms/step - loss: 9.2918e-05 - val_loss: 0.3549\n",
            "Epoch 91/100\n",
            "24/24 [==============================] - 4s 183ms/step - loss: 9.0446e-05 - val_loss: 0.3314\n",
            "Epoch 92/100\n",
            "24/24 [==============================] - 4s 183ms/step - loss: 9.8548e-05 - val_loss: 0.3760\n",
            "Epoch 93/100\n",
            "24/24 [==============================] - 4s 185ms/step - loss: 1.1183e-04 - val_loss: 0.3522\n",
            "Epoch 94/100\n",
            "24/24 [==============================] - 4s 184ms/step - loss: 1.1261e-04 - val_loss: 0.3305\n",
            "Epoch 95/100\n",
            "24/24 [==============================] - 4s 184ms/step - loss: 1.0161e-04 - val_loss: 0.3523\n",
            "Epoch 96/100\n",
            "24/24 [==============================] - 4s 184ms/step - loss: 9.6137e-05 - val_loss: 0.3339\n",
            "Epoch 97/100\n",
            "24/24 [==============================] - 4s 186ms/step - loss: 8.7205e-05 - val_loss: 0.3514\n",
            "Epoch 98/100\n",
            "24/24 [==============================] - 4s 185ms/step - loss: 8.3855e-05 - val_loss: 0.3550\n",
            "Epoch 99/100\n",
            "24/24 [==============================] - 4s 183ms/step - loss: 8.1188e-05 - val_loss: 0.3441\n",
            "Epoch 100/100\n",
            "24/24 [==============================] - 4s 185ms/step - loss: 8.2910e-05 - val_loss: 0.3658\n"
          ],
          "name": "stdout"
        }
      ]
    },
    {
      "cell_type": "code",
      "metadata": {
        "colab": {
          "base_uri": "https://localhost:8080/",
          "height": 298
        },
        "id": "297J-Y6-gQtG",
        "outputId": "10f54d37-7859-4b1d-80d2-624bc60ce2d1"
      },
      "source": [
        "plt.plot(lstm_model.history['loss'])\n",
        "plt.xlabel('Epochs')\n",
        "plt.ylabel('Loss')"
      ],
      "execution_count": 40,
      "outputs": [
        {
          "output_type": "execute_result",
          "data": {
            "text/plain": [
              "Text(0, 0.5, 'Loss')"
            ]
          },
          "metadata": {},
          "execution_count": 40
        },
        {
          "output_type": "display_data",
          "data": {
            "image/png": "[encoded data removed]",
            "text/plain": [
              "<Figure size 432x288 with 1 Axes>"
            ]
          },
          "metadata": {
            "needs_background": "light"
          }
        }
      ]
    },
    {
      "cell_type": "markdown",
      "metadata": {
        "id": "DvJyMVmHqaCx"
      },
      "source": [
        "### **Predictions**"
      ]
    },
    {
      "cell_type": "code",
      "metadata": {
        "id": "OFA8FYbXgY-Z"
      },
      "source": [
        "train_predictions = model.predict(x_train)\n",
        "test_predictions = model.predict(x_test)"
      ],
      "execution_count": 41,
      "outputs": []
    },
    {
      "cell_type": "code",
      "metadata": {
        "colab": {
          "base_uri": "https://localhost:8080/"
        },
        "id": "XlvzENgXhWqe",
        "outputId": "44f12515-de5d-4367-a048-3a879ec8fc0e"
      },
      "source": [
        "train_predictions = scaler.inverse_transform(train_predictions)\n",
        "test_predictions = scaler.inverse_transform(test_predictions)\n",
        "print(train_predictions.shape, test_predictions.shape)"
      ],
      "execution_count": 43,
      "outputs": [
        {
          "output_type": "stream",
          "text": [
            "(1503, 1) (300, 1)\n"
          ],
          "name": "stdout"
        }
      ]
    },
    {
      "cell_type": "markdown",
      "metadata": {
        "id": "TiKuC5jSqBOh"
      },
      "source": [
        "### **Evaluation Metrics**"
      ]
    },
    {
      "cell_type": "code",
      "metadata": {
        "colab": {
          "base_uri": "https://localhost:8080/"
        },
        "id": "2RW2_hyUiBO2",
        "outputId": "95799f08-5559-43aa-b746-25973d60eb9e"
      },
      "source": [
        "math.sqrt(mean_squared_error(y_train,train_predictions))"
      ],
      "execution_count": 44,
      "outputs": [
        {
          "output_type": "execute_result",
          "data": {
            "text/plain": [
              "1627.1517218989025"
            ]
          },
          "metadata": {},
          "execution_count": 44
        }
      ]
    },
    {
      "cell_type": "code",
      "metadata": {
        "colab": {
          "base_uri": "https://localhost:8080/"
        },
        "id": "abee8_MBinUF",
        "outputId": "5c2191ab-866f-411e-94be-4aae6113068f"
      },
      "source": [
        "math.sqrt(mean_squared_error(y_test,test_predictions))"
      ],
      "execution_count": 45,
      "outputs": [
        {
          "output_type": "execute_result",
          "data": {
            "text/plain": [
              "2917.832902755343"
            ]
          },
          "metadata": {},
          "execution_count": 45
        }
      ]
    },
    {
      "cell_type": "code",
      "metadata": {
        "colab": {
          "base_uri": "https://localhost:8080/"
        },
        "id": "x4ijFnj8j_J0",
        "outputId": "2f3cb339-61a8-4f7b-b7c3-667c858db0a2"
      },
      "source": [
        "predictions=model.predict(x_test)\n",
        "predictions=scaler.inverse_transform(predictions)\n",
        "rmse=np.sqrt( np.mean((predictions - y_test)**2))\n",
        "rmse"
      ],
      "execution_count": 55,
      "outputs": [
        {
          "output_type": "execute_result",
          "data": {
            "text/plain": [
              "51.63161075191078"
            ]
          },
          "metadata": {},
          "execution_count": 55
        }
      ]
    },
    {
      "cell_type": "markdown",
      "metadata": {
        "id": "CISHIOZkql1V"
      },
      "source": [
        "### **Plot graph after prediction by using different colors to show predicted stocks.**"
      ]
    },
    {
      "cell_type": "code",
      "metadata": {
        "colab": {
          "base_uri": "https://localhost:8080/",
          "height": 605
        },
        "id": "UxdQnFDMjLRt",
        "outputId": "633f37bf-eae2-46ee-9cb8-804c1d438bfe"
      },
      "source": [
        "trainPredictPlot = np.empty_like(dataset)\n",
        "trainPredictPlot[:, :] = np.nan\n",
        "trainPredictPlot[100:len(train_predictions)+100, :] = train_predictions\n",
        "testPredictPlot = np.empty_like(dataset)\n",
        "testPredictPlot[:] = np.nan\n",
        "testPredictPlot[len(train_predictions)+(100*2):len(dataset), :] = test_predictions\n",
        "plt.figure(figsize = (10,10))\n",
        "plt.title('RNN model LSTM')\n",
        "plt.ylabel('Close Price in $', fontsize = 15)\n",
        "plt.plot(dataset)\n",
        "plt.plot(trainPredictPlot)\n",
        "plt.plot(testPredictPlot)\n",
        "plt.legend(['Data', 'Train', 'Predictions'], loc='upper right')\n",
        "plt.show()"
      ],
      "execution_count": 58,
      "outputs": [
        {
          "output_type": "display_data",
          "data": {
            "image/png": "[encoded data removed]",
            "text/plain": [
              "<Figure size 720x720 with 1 Axes>"
            ]
          },
          "metadata": {
            "needs_background": "light"
          }
        }
      ]
    }
  ]
}